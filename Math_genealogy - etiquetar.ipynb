{
 "cells": [
  {
   "cell_type": "markdown",
   "id": "4b323141",
   "metadata": {},
   "source": [
    "En \"Barabasi - etiquetar\" y \"Branching process - etiquetar\" se comprueba que si, se tiene un arbol (generado con branching process o barabasi) etiquetado con una cadena de markov, entonces la proporcion de las etiquetas en los nodos va de acuerdo con la distribución limite.\n",
    "\n",
    "Aca, se asume que el etiquetado de subjects en math-geneaogy sigue el proceso de una cadena de markov, se estima la cadena de markoc, se quiere ver si la distribucion limite de la cadena de matkov estimada es igual a la proporcion de las etiquetas en los nodos"
   ]
  },
  {
   "cell_type": "code",
   "execution_count": 1,
   "id": "939c1417",
   "metadata": {},
   "outputs": [],
   "source": [
    "import networkx as nx\n",
    "import matplotlib.pyplot as plt\n",
    "import numpy as np\n",
    "import random\n",
    "import seaborn as sns\n",
    "import scipy\n",
    "import json\n",
    "import nltk\n",
    "import sys"
   ]
  },
  {
   "cell_type": "markdown",
   "id": "072be178",
   "metadata": {},
   "source": [
    "Se tienen los datos descargados en una carpeta"
   ]
  },
  {
   "cell_type": "code",
   "execution_count": 2,
   "id": "b9a6199d",
   "metadata": {},
   "outputs": [],
   "source": [
    "carpeta_datos = '.\\\\Datos math-genealogy\\\\'"
   ]
  },
  {
   "cell_type": "code",
   "execution_count": 3,
   "id": "62f25c10",
   "metadata": {},
   "outputs": [
    {
     "data": {
      "text/plain": [
       "dict_keys(['nodes'])"
      ]
     },
     "execution_count": 3,
     "metadata": {},
     "output_type": "execute_result"
    }
   ],
   "source": [
    "# leer los datos\n",
    "with open(carpeta_datos + 'data.json', 'r') as infile:\n",
    "    data_dict = json.load(infile)\n",
    "    \n",
    "# llaves de data_dict, que es el arhivo leido\n",
    "data_dict.keys()"
   ]
  },
  {
   "cell_type": "markdown",
   "id": "a96bce89",
   "metadata": {},
   "source": [
    "La unica llave es 'nodes', todos los datos estan ahi"
   ]
  },
  {
   "cell_type": "code",
   "execution_count": 4,
   "id": "a290f7a8",
   "metadata": {},
   "outputs": [
    {
     "name": "stdout",
     "output_type": "stream",
     "text": [
      "Se tienen 297377 matematicos\n"
     ]
    }
   ],
   "source": [
    "datos_lista = data_dict['nodes']\n",
    "print(f\"Se tienen {len(datos_lista)} matematicos\")"
   ]
  },
  {
   "cell_type": "markdown",
   "id": "db2ab56a",
   "metadata": {},
   "source": [
    "datos_lista es una lista de matematicos\n",
    "\n",
    "\n",
    "cada uno representado como un diccionario\n",
    "donde las llaves son los campos y las llaves los valores"
   ]
  },
  {
   "cell_type": "code",
   "execution_count": 5,
   "id": "1139e9d8",
   "metadata": {},
   "outputs": [
    {
     "data": {
      "text/plain": [
       "{'id': 113793,\n",
       " 'name': 'Johan Lodewijk Hendrik Jonker',\n",
       " 'thesis': 'Stroomverdeeling in versterkerbuizen',\n",
       " 'school': 'Technische Universiteit Delft',\n",
       " 'country': 'Netherlands',\n",
       " 'year': 1942,\n",
       " 'subject': '78—Optics, electromagnetic theory',\n",
       " 'advisors': [113601],\n",
       " 'students': []}"
      ]
     },
     "execution_count": 5,
     "metadata": {},
     "output_type": "execute_result"
    }
   ],
   "source": [
    "datos_lista[4]"
   ]
  },
  {
   "cell_type": "markdown",
   "id": "2e144a18",
   "metadata": {},
   "source": [
    "Transformar estos datos en un diccionario.\n",
    "\n",
    "Las llaves van a ser los id's, los valores van a ser el diccionario el matematico.\n",
    "\n",
    "De este modo se pueden buscar a los matematicos por su id, de forma facil"
   ]
  },
  {
   "cell_type": "code",
   "execution_count": 6,
   "id": "0a04ec23",
   "metadata": {},
   "outputs": [
    {
     "name": "stdout",
     "output_type": "stream",
     "text": [
      "Se tienen 297377 matematicos\n"
     ]
    }
   ],
   "source": [
    "# diccionario donde poner los datos\n",
    "datos = dict()\n",
    "\n",
    "# iterar en los diccionarios de los matematicos\n",
    "for matematico in datos_lista:\n",
    "    # tomar el id\n",
    "    id_m = matematico['id']\n",
    "    # agregar la entrada al diccionario\n",
    "    datos[id_m] = matematico\n",
    "    \n",
    "\n",
    "# comprobar cuantos se tienen\n",
    "print(f\"Se tienen {len(datos)} matematicos\")"
   ]
  },
  {
   "cell_type": "markdown",
   "id": "6a81d445",
   "metadata": {},
   "source": [
    "Ahora se acceden a los diccionarios de los matematicos con los id's"
   ]
  },
  {
   "cell_type": "code",
   "execution_count": 7,
   "id": "7e4b3c81",
   "metadata": {},
   "outputs": [
    {
     "data": {
      "text/plain": [
       "{'id': 112114,\n",
       " 'name': 'Jacobus Cornelius Kapteyn',\n",
       " 'thesis': 'Onderzoek der trillende platte vliezen',\n",
       " 'school': 'Universiteit Utrecht',\n",
       " 'country': 'Netherlands',\n",
       " 'year': 1875,\n",
       " 'subject': '70—Mechanics of particles and systems',\n",
       " 'advisors': [112106],\n",
       " 'students': [112159,\n",
       "  113801,\n",
       "  299071,\n",
       "  113802,\n",
       "  113803,\n",
       "  113804,\n",
       "  112160,\n",
       "  113805,\n",
       "  113806]}"
      ]
     },
     "execution_count": 7,
     "metadata": {},
     "output_type": "execute_result"
    }
   ],
   "source": [
    "datos[112114]"
   ]
  },
  {
   "cell_type": "markdown",
   "id": "75d797ca",
   "metadata": {},
   "source": [
    "### Ver los años de los matematicos\n",
    "\n",
    "Ver de que año son los matematicos"
   ]
  },
  {
   "cell_type": "code",
   "execution_count": 8,
   "id": "69d8bf68",
   "metadata": {},
   "outputs": [
    {
     "name": "stdout",
     "output_type": "stream",
     "text": [
      "De los 297377 matematicos se tiene el año para 243161\n"
     ]
    }
   ],
   "source": [
    "# por cada matematico, ver su año\n",
    "años_matematicos = []\n",
    "\n",
    "# iterar en los matematicos\n",
    "for id_mat, info_mat in datos.items():\n",
    "    \n",
    "    # si tiene año \n",
    "    if info_mat['year'] is not None:\n",
    "        # agregar el año\n",
    "        años_matematicos.append(info_mat['year'])\n",
    "        \n",
    "# ver de que porcentaje se sabe el año\n",
    "print(f\"De los {len(datos)} matematicos se tiene el año para {len(años_matematicos)}\")"
   ]
  },
  {
   "cell_type": "markdown",
   "id": "9ae15bb0",
   "metadata": {},
   "source": [
    "Filtrar de acuerdo al año"
   ]
  },
  {
   "cell_type": "code",
   "execution_count": 9,
   "id": "98267b26",
   "metadata": {},
   "outputs": [
    {
     "name": "stdout",
     "output_type": "stream",
     "text": [
      "Se eliminaron 0 matematicos\n"
     ]
    }
   ],
   "source": [
    "año_minimo = -1\n",
    "\n",
    "# ver cuantos se eliminan\n",
    "eliminados = 0\n",
    "\n",
    "# iterar en los matematicos\n",
    "for id_mat, info_mat in list(datos.items()):\n",
    "    \n",
    "    # si el año es no nulo y es menor al año minimo\n",
    "    if info_mat['year'] is not None and info_mat['year'] < año_minimo:\n",
    "        # quitar ese matematico\n",
    "        del datos[id_mat]\n",
    "        eliminados = eliminados + 1\n",
    "        \n",
    "print(f\"Se eliminaron {eliminados} matematicos\")"
   ]
  },
  {
   "cell_type": "markdown",
   "id": "ae45ae69",
   "metadata": {},
   "source": [
    "## Conservar solo los matematicos con subject"
   ]
  },
  {
   "cell_type": "markdown",
   "id": "db6accfc",
   "metadata": {},
   "source": [
    "Primero se guardan en una lista los id's de los matematicos con subject"
   ]
  },
  {
   "cell_type": "code",
   "execution_count": 10,
   "id": "ebc242d4",
   "metadata": {},
   "outputs": [
    {
     "name": "stdout",
     "output_type": "stream",
     "text": [
      "Hay 183140 matematicos con subject\n"
     ]
    }
   ],
   "source": [
    "ids_con_subject = []\n",
    "\n",
    "# iterar en los matematicos\n",
    "for id_mat, info_mat in datos.items():\n",
    "    \n",
    "    # checar si tiene subject\n",
    "    if info_mat['subject'] is not None:\n",
    "        # agregar su id\n",
    "        ids_con_subject.append(id_mat)\n",
    "\n",
    "# hacer que sea un conjunto\n",
    "ids_con_subject = set(ids_con_subject)\n",
    "        \n",
    "# ver cuantos matematicos tienen subject\n",
    "print(f\"Hay {len(ids_con_subject)} matematicos con subject\")"
   ]
  },
  {
   "cell_type": "markdown",
   "id": "f9c2a5ea",
   "metadata": {},
   "source": [
    "Solo conservar estos matematicos, hacer un nuevo diccionario"
   ]
  },
  {
   "cell_type": "code",
   "execution_count": 11,
   "id": "d6460ee8",
   "metadata": {},
   "outputs": [
    {
     "name": "stdout",
     "output_type": "stream",
     "text": [
      "Se tienen 183140 matematicos\n"
     ]
    }
   ],
   "source": [
    "# hacer un nuevo diccionario de datos\n",
    "# donde solo se consideren matematicos son subject\n",
    "\n",
    "datos_con_subject = {}\n",
    "\n",
    "# iterar en el diccionario completo\n",
    "for id_mat, info_mat in datos.items():\n",
    "    \n",
    "    # si el matematico tiene subject\n",
    "    # se pone en el nuevo diccionario\n",
    "    if id_mat in ids_con_subject:\n",
    "        \n",
    "        # poner su entrana en el nuevo dict\n",
    "        \n",
    "        # poner la entrada del diccionario anterior en el nuevo\n",
    "        datos_con_subject[id_mat] = info_mat.copy()\n",
    "        \n",
    "        # actualizar para poner solo los advisors con subject\n",
    "        datos_con_subject[id_mat]['advisors'] = [id_ for id_ in info_mat['advisors']\n",
    "                                                 if id_ in ids_con_subject]\n",
    "        \n",
    "        # actualizar para poner solo los students con subject\n",
    "        datos_con_subject[id_mat]['students'] = [id_ for id_ in info_mat['students']\n",
    "                                                 if id_ in ids_con_subject]\n",
    "        \n",
    "# comprobar cuantos se tienen\n",
    "print(f\"Se tienen {len(datos_con_subject)} matematicos\")"
   ]
  },
  {
   "cell_type": "markdown",
   "id": "56e5eead",
   "metadata": {},
   "source": [
    "Comparar"
   ]
  },
  {
   "cell_type": "code",
   "execution_count": 12,
   "id": "ab66aa04",
   "metadata": {},
   "outputs": [
    {
     "data": {
      "text/plain": [
       "{'id': 112114,\n",
       " 'name': 'Jacobus Cornelius Kapteyn',\n",
       " 'thesis': 'Onderzoek der trillende platte vliezen',\n",
       " 'school': 'Universiteit Utrecht',\n",
       " 'country': 'Netherlands',\n",
       " 'year': 1875,\n",
       " 'subject': '70—Mechanics of particles and systems',\n",
       " 'advisors': [112106],\n",
       " 'students': [112159,\n",
       "  113801,\n",
       "  299071,\n",
       "  113802,\n",
       "  113803,\n",
       "  113804,\n",
       "  112160,\n",
       "  113805,\n",
       "  113806]}"
      ]
     },
     "execution_count": 12,
     "metadata": {},
     "output_type": "execute_result"
    }
   ],
   "source": [
    "datos[112114]"
   ]
  },
  {
   "cell_type": "markdown",
   "id": "1df3fa89",
   "metadata": {},
   "source": [
    "Ese matematico tiene subject, por lo que deberia de estar en el nuevo diccionario"
   ]
  },
  {
   "cell_type": "code",
   "execution_count": 13,
   "id": "617bb800",
   "metadata": {},
   "outputs": [
    {
     "data": {
      "text/plain": [
       "{'id': 112114,\n",
       " 'name': 'Jacobus Cornelius Kapteyn',\n",
       " 'thesis': 'Onderzoek der trillende platte vliezen',\n",
       " 'school': 'Universiteit Utrecht',\n",
       " 'country': 'Netherlands',\n",
       " 'year': 1875,\n",
       " 'subject': '70—Mechanics of particles and systems',\n",
       " 'advisors': [],\n",
       " 'students': [112159, 113801, 113802, 113803, 113804, 112160, 113805, 113806]}"
      ]
     },
     "execution_count": 13,
     "metadata": {},
     "output_type": "execute_result"
    }
   ],
   "source": [
    "datos_con_subject[112114]"
   ]
  },
  {
   "cell_type": "markdown",
   "id": "d0756109",
   "metadata": {},
   "source": [
    "Ahora aparece con menos estudiantes y sin advisor. Esto deberia de ser porque solo se conserban los que si tienen subject,\n",
    "comparar esto en el diccionario original."
   ]
  },
  {
   "cell_type": "code",
   "execution_count": 14,
   "id": "9b509b98",
   "metadata": {},
   "outputs": [
    {
     "data": {
      "text/plain": [
       "{'id': 112106,\n",
       " 'name': 'Cornelius Hubertus Carolus Grinwis',\n",
       " 'thesis': 'De verdeeling der elektriciteit over het oppervlak eens geleiders',\n",
       " 'school': None,\n",
       " 'country': 'Netherlands',\n",
       " 'year': None,\n",
       " 'subject': None,\n",
       " 'advisors': [100601],\n",
       " 'students': [113877,\n",
       "  113888,\n",
       "  113878,\n",
       "  113879,\n",
       "  113880,\n",
       "  113881,\n",
       "  112114,\n",
       "  65941,\n",
       "  51358,\n",
       "  113882,\n",
       "  113883,\n",
       "  113884,\n",
       "  113885,\n",
       "  113886,\n",
       "  113889,\n",
       "  113890,\n",
       "  113887,\n",
       "  113891]}"
      ]
     },
     "execution_count": 14,
     "metadata": {},
     "output_type": "execute_result"
    }
   ],
   "source": [
    "# es el advisor del matematico, que no aparece despues\n",
    "# por lo que no deberia de tener subject\n",
    "datos[112106]"
   ]
  },
  {
   "cell_type": "markdown",
   "id": "8c80050e",
   "metadata": {},
   "source": [
    "## Construir el arbol\n",
    "\n",
    "Los matematicos son los nodos.\n",
    "\n",
    "Hay una arista dirigida del matematico $i$ al matematico $j$ si \n",
    "$i$ es el advisor principal de $j$"
   ]
  },
  {
   "cell_type": "code",
   "execution_count": 15,
   "id": "fd145d6c",
   "metadata": {},
   "outputs": [],
   "source": [
    "# crear el grafo\n",
    "grafo = nx.DiGraph()\n",
    "\n",
    "# agregar un nodo por cada matematico\n",
    "# iterar en el diccionario de matematicos con subjects\n",
    "for id_mat, info_mat in datos_con_subject.items():\n",
    "    \n",
    "    # tomar el subject del matematico\n",
    "    subj_mat = info_mat['subject']\n",
    "    \n",
    "    # agregar el nodo de ese matematico\n",
    "    # poner el subject como atributo\n",
    "    grafo.add_node(id_mat, subject = subj_mat)\n",
    "    \n",
    "    \n",
    "# agregar las aristas\n",
    "# iterar en el diccionario de matematicos con subjects\n",
    "for id_mat, info_mat in datos_con_subject.items():\n",
    "    \n",
    "    # solo agregar arista si tiene advisors\n",
    "    if len(info_mat['advisors']) >= 1:\n",
    "        \n",
    "        # agregar una arista dirigida\n",
    "        # de su advisor principal a el\n",
    "        \n",
    "        # tomar los advisors\n",
    "        advisors_mat = info_mat['advisors']\n",
    "        # tomar el principal\n",
    "        advisor_principal_mat = advisors_mat[0]\n",
    "        \n",
    "        # agregar la arista dirigida\n",
    "        grafo.add_edge(advisor_principal_mat, id_mat)"
   ]
  },
  {
   "cell_type": "code",
   "execution_count": 16,
   "id": "7fb117cd",
   "metadata": {},
   "outputs": [
    {
     "name": "stdout",
     "output_type": "stream",
     "text": [
      "El grafo es un DAG: False\n",
      "El grafo es un DAG: True\n"
     ]
    }
   ],
   "source": [
    "print(f\"El grafo es un DAG: {nx.is_directed_acyclic_graph(grafo)}\")\n",
    "\n",
    "# no es dag porque por ahi tiene self loops\n",
    "# (no se que onda con esos datos, los voy a quitar)\n",
    "self_loops = list(grafo.edges(data=False))\n",
    "grafo.remove_edges_from([(u, v) for u, v in self_loops if u == v])\n",
    "\n",
    "# checar otra vez\n",
    "print(f\"El grafo es un DAG: {nx.is_directed_acyclic_graph(grafo)}\")"
   ]
  },
  {
   "cell_type": "code",
   "execution_count": 17,
   "id": "d03aa525",
   "metadata": {},
   "outputs": [
    {
     "name": "stdout",
     "output_type": "stream",
     "text": [
      "Se tienen 183140 nodos\n",
      "Se tienen 118968 edges\n"
     ]
    }
   ],
   "source": [
    "print(f\"Se tienen {grafo.number_of_nodes()} nodos\")\n",
    "print(f\"Se tienen {grafo.number_of_edges()} edges\")"
   ]
  },
  {
   "cell_type": "markdown",
   "id": "2424ffc0",
   "metadata": {},
   "source": [
    "Ver información de la conectividad del grafo"
   ]
  },
  {
   "cell_type": "code",
   "execution_count": 18,
   "id": "86e2a8d6",
   "metadata": {},
   "outputs": [
    {
     "name": "stdout",
     "output_type": "stream",
     "text": [
      "Numero de componentes conexos debiles: 64172\n"
     ]
    }
   ],
   "source": [
    "# Ver el numero de compoentes conexos debiles\n",
    "num_c_c_weak = nx.number_weakly_connected_components(grafo)\n",
    "print(f\"Numero de componentes conexos debiles: {num_c_c_weak}\")"
   ]
  },
  {
   "cell_type": "markdown",
   "id": "6fb37f09",
   "metadata": {},
   "source": [
    "Eliminar nodos aislados del grafo"
   ]
  },
  {
   "cell_type": "code",
   "execution_count": 19,
   "id": "3da1d7cf",
   "metadata": {},
   "outputs": [],
   "source": [
    "# identificar nodos aislados\n",
    "isolated_nodes = [node for node in grafo.nodes() if \n",
    "                  (grafo.in_degree(node) == 0 and grafo.out_degree(node) == 0)]\n",
    "\n",
    "# eliminarlos\n",
    "grafo.remove_nodes_from(isolated_nodes)"
   ]
  },
  {
   "cell_type": "markdown",
   "id": "e9c3f9fc",
   "metadata": {},
   "source": [
    "Volver a ver info de la conectividad y del grafo"
   ]
  },
  {
   "cell_type": "code",
   "execution_count": 20,
   "id": "794664db",
   "metadata": {},
   "outputs": [
    {
     "name": "stdout",
     "output_type": "stream",
     "text": [
      "Se tienen 131668 nodos\n",
      "Se tienen 118968 edges\n",
      "Numero de componentes conexos debiles: 12700\n"
     ]
    }
   ],
   "source": [
    "print(f\"Se tienen {grafo.number_of_nodes()} nodos\")\n",
    "print(f\"Se tienen {grafo.number_of_edges()} edges\")\n",
    "\n",
    "# Ver el numero de compoentes conexos debiles\n",
    "num_c_c_weak = nx.number_weakly_connected_components(grafo)\n",
    "print(f\"Numero de componentes conexos debiles: {num_c_c_weak}\")"
   ]
  },
  {
   "cell_type": "code",
   "execution_count": 21,
   "id": "c3fac82c",
   "metadata": {},
   "outputs": [],
   "source": [
    "# tomar los componentes conexos debiles\n",
    "weakly_connected_components = list(nx.weakly_connected_components(grafo))\n",
    "\n",
    "# tomar el tamaño de cada uno\n",
    "component_sizes = [len(component) for component in weakly_connected_components]"
   ]
  },
  {
   "cell_type": "code",
   "execution_count": 22,
   "id": "96a42e9f",
   "metadata": {},
   "outputs": [
    {
     "name": "stdout",
     "output_type": "stream",
     "text": [
      "Los 400 mayores componentes tienen tamaños: \n",
      "1938\n",
      "1821\n",
      "1688\n",
      "1283\n",
      "1049\n",
      "964\n",
      "945\n",
      "909\n",
      "757\n",
      "620\n",
      "546\n",
      "538\n",
      "528\n",
      "437\n",
      "386\n",
      "384\n",
      "354\n",
      "352\n",
      "335\n",
      "333\n",
      "328\n",
      "327\n",
      "322\n",
      "317\n",
      "315\n",
      "312\n",
      "310\n",
      "300\n",
      "283\n",
      "282\n",
      "279\n",
      "260\n",
      "255\n",
      "247\n",
      "240\n",
      "236\n",
      "234\n",
      "233\n",
      "231\n",
      "226\n",
      "224\n",
      "223\n",
      "223\n",
      "222\n",
      "221\n",
      "214\n",
      "207\n",
      "206\n",
      "202\n",
      "197\n",
      "194\n",
      "190\n",
      "189\n",
      "189\n",
      "186\n",
      "184\n",
      "182\n",
      "178\n",
      "177\n",
      "177\n",
      "177\n",
      "175\n",
      "174\n",
      "174\n",
      "172\n",
      "171\n",
      "169\n",
      "165\n",
      "163\n",
      "162\n",
      "160\n",
      "158\n",
      "157\n",
      "156\n",
      "155\n",
      "152\n",
      "152\n",
      "152\n",
      "151\n",
      "149\n",
      "148\n",
      "147\n",
      "145\n",
      "144\n",
      "143\n",
      "142\n",
      "141\n",
      "139\n",
      "138\n",
      "136\n",
      "136\n",
      "135\n",
      "134\n",
      "132\n",
      "131\n",
      "130\n",
      "129\n",
      "128\n",
      "127\n",
      "126\n",
      "124\n",
      "123\n",
      "122\n",
      "122\n",
      "120\n",
      "119\n",
      "118\n",
      "118\n",
      "118\n",
      "118\n",
      "117\n",
      "117\n",
      "115\n",
      "115\n",
      "114\n",
      "113\n",
      "113\n",
      "111\n",
      "111\n",
      "110\n",
      "110\n",
      "109\n",
      "109\n",
      "108\n",
      "108\n",
      "108\n",
      "107\n",
      "107\n",
      "107\n",
      "107\n",
      "105\n",
      "104\n",
      "102\n",
      "101\n",
      "100\n",
      "99\n",
      "98\n",
      "98\n",
      "98\n",
      "97\n",
      "97\n",
      "96\n",
      "96\n",
      "94\n",
      "94\n",
      "93\n",
      "93\n",
      "93\n",
      "93\n",
      "91\n",
      "91\n",
      "90\n",
      "89\n",
      "89\n",
      "89\n",
      "89\n",
      "88\n",
      "88\n",
      "88\n",
      "87\n",
      "87\n",
      "87\n",
      "87\n",
      "86\n",
      "86\n",
      "86\n",
      "85\n",
      "85\n",
      "85\n",
      "85\n",
      "85\n",
      "85\n",
      "84\n",
      "84\n",
      "84\n",
      "83\n",
      "83\n",
      "83\n",
      "83\n",
      "82\n",
      "82\n",
      "82\n",
      "82\n",
      "81\n",
      "81\n",
      "81\n",
      "81\n",
      "80\n",
      "80\n",
      "79\n",
      "79\n",
      "79\n",
      "79\n",
      "79\n",
      "78\n",
      "78\n",
      "78\n",
      "78\n",
      "77\n",
      "77\n",
      "77\n",
      "77\n",
      "77\n",
      "77\n",
      "75\n",
      "75\n",
      "74\n",
      "74\n",
      "74\n",
      "74\n",
      "74\n",
      "73\n",
      "73\n",
      "73\n",
      "72\n",
      "71\n",
      "71\n",
      "71\n",
      "71\n",
      "71\n",
      "70\n",
      "70\n",
      "70\n",
      "70\n",
      "70\n",
      "70\n",
      "70\n",
      "70\n",
      "69\n",
      "69\n",
      "69\n",
      "68\n",
      "68\n",
      "68\n",
      "68\n",
      "67\n",
      "67\n",
      "67\n",
      "67\n",
      "67\n",
      "66\n",
      "66\n",
      "66\n",
      "65\n",
      "65\n",
      "65\n",
      "65\n",
      "64\n",
      "64\n",
      "64\n",
      "64\n",
      "64\n",
      "64\n",
      "64\n",
      "63\n",
      "63\n",
      "63\n",
      "63\n",
      "63\n",
      "63\n",
      "62\n",
      "62\n",
      "62\n",
      "62\n",
      "62\n",
      "62\n",
      "61\n",
      "61\n",
      "61\n",
      "60\n",
      "60\n",
      "60\n",
      "60\n",
      "60\n",
      "60\n",
      "60\n",
      "60\n",
      "59\n",
      "59\n",
      "59\n",
      "58\n",
      "58\n",
      "58\n",
      "58\n",
      "58\n",
      "58\n",
      "58\n",
      "57\n",
      "57\n",
      "57\n",
      "57\n",
      "57\n",
      "57\n",
      "56\n",
      "56\n",
      "56\n",
      "56\n",
      "56\n",
      "56\n",
      "56\n",
      "55\n",
      "55\n",
      "55\n",
      "55\n",
      "55\n",
      "55\n",
      "55\n",
      "55\n",
      "55\n",
      "55\n",
      "55\n",
      "55\n",
      "54\n",
      "54\n",
      "54\n",
      "54\n",
      "54\n",
      "54\n",
      "54\n",
      "54\n",
      "53\n",
      "53\n",
      "53\n",
      "53\n",
      "53\n",
      "53\n",
      "52\n",
      "52\n",
      "52\n",
      "52\n",
      "52\n",
      "52\n",
      "52\n",
      "52\n",
      "51\n",
      "51\n",
      "51\n",
      "51\n",
      "51\n",
      "51\n",
      "51\n",
      "51\n",
      "51\n",
      "51\n",
      "51\n",
      "50\n",
      "50\n",
      "50\n",
      "50\n",
      "50\n",
      "50\n",
      "50\n",
      "50\n",
      "50\n",
      "50\n",
      "50\n",
      "49\n",
      "49\n",
      "49\n",
      "49\n",
      "49\n",
      "49\n",
      "49\n",
      "49\n",
      "49\n",
      "49\n",
      "49\n",
      "49\n",
      "48\n",
      "48\n",
      "48\n",
      "48\n",
      "48\n",
      "48\n",
      "48\n",
      "48\n",
      "48\n",
      "48\n",
      "47\n",
      "47\n",
      "47\n",
      "47\n",
      "47\n",
      "47\n",
      "47\n",
      "47\n",
      "47\n",
      "47\n",
      "47\n",
      "46\n",
      "46\n",
      "46\n",
      "46\n",
      "46\n",
      "46\n",
      "45\n",
      "45\n",
      "45\n",
      "45\n",
      "45\n"
     ]
    }
   ],
   "source": [
    "# ver los tamaños de los mayores\n",
    "k=400\n",
    "print(f\"Los {k} mayores componentes tienen tamaños: \")\n",
    "for size in sorted(component_sizes, reverse = True)[:k]:\n",
    "    print(size)"
   ]
  },
  {
   "cell_type": "code",
   "execution_count": 23,
   "id": "7fd85463",
   "metadata": {},
   "outputs": [
    {
     "data": {
      "image/png": "[encoded data removed]",
      "text/plain": [
       "<Figure size 640x480 with 1 Axes>"
      ]
     },
     "metadata": {},
     "output_type": "display_data"
    }
   ],
   "source": [
    "# visualizar las frecuencias en un histograma\n",
    "plt.hist(component_sizes, bins= range(min(component_sizes), max(component_sizes) + 1), \n",
    "         color='skyblue', edgecolor='black')\n",
    "\n",
    "# poner el eje x en log\n",
    "plt.xscale('log')\n",
    "\n",
    "plt.xlabel('Component Size (log scale)')\n",
    "plt.ylabel('Frequency')\n",
    "plt.title('Histogram of Weakly Connected Component Sizes (log scale)')\n",
    "plt.show()"
   ]
  },
  {
   "cell_type": "markdown",
   "id": "97c02963",
   "metadata": {},
   "source": [
    "## Etiquetar los nodos usando los subjects"
   ]
  },
  {
   "cell_type": "code",
   "execution_count": 24,
   "id": "65b3322c",
   "metadata": {},
   "outputs": [
    {
     "name": "stdout",
     "output_type": "stream",
     "text": [
      "Se tienen 63 subjects\n"
     ]
    }
   ],
   "source": [
    "nombres_subjects = set([grafo.nodes[n]['subject'] for n in grafo.nodes()])\n",
    "\n",
    "# hacerlo una lista ordenada\n",
    "nombres_subjects = sorted(list(nombres_subjects))\n",
    "\n",
    "# ver cuatnos hay\n",
    "numero_subjects = len(nombres_subjects)\n",
    "\n",
    "print(f\"Se tienen {numero_subjects} subjects\")"
   ]
  },
  {
   "cell_type": "markdown",
   "id": "2b26eb8a",
   "metadata": {},
   "source": [
    "Hacer diccionarios para pasar de los nombres a indices y viceversa.\n",
    "Estos seran los indices usados para poner las etiquetas"
   ]
  },
  {
   "cell_type": "code",
   "execution_count": 25,
   "id": "f52742c2",
   "metadata": {},
   "outputs": [],
   "source": [
    "# diccionarios vacios\n",
    "subj_2_idx = dict()\n",
    "idx_2_subj = dict()\n",
    "\n",
    "# iterar en la lista de los subjects\n",
    "for idx, subj in enumerate(nombres_subjects):\n",
    "    \n",
    "    # añadir las entradas al diccionario\n",
    "    subj_2_idx[subj] = idx\n",
    "    idx_2_subj[idx] = subj"
   ]
  },
  {
   "cell_type": "markdown",
   "id": "d227673f",
   "metadata": {},
   "source": [
    "Funciones auxiliares"
   ]
  },
  {
   "cell_type": "code",
   "execution_count": 26,
   "id": "274a5488",
   "metadata": {},
   "outputs": [],
   "source": [
    "# ponerle una etiqueta a un nodo en un grafo\n",
    "def etiquetar(nodo, indice_etiqueta, grafo):\n",
    "    \n",
    "    # poner la etiqueta como parte del diccionario\n",
    "    # asociado a cada nodo\n",
    "    # con la llave de etiqueta\n",
    "    grafo.nodes[nodo]['etiqueta'] = indice_etiqueta"
   ]
  },
  {
   "cell_type": "code",
   "execution_count": 27,
   "id": "ada983f1",
   "metadata": {},
   "outputs": [],
   "source": [
    "# dado un nodo de un grafo, obtener su etiqueta\n",
    "def get_etiqueta(nodo, grafo):\n",
    "    \n",
    "    # devuelve la etiqueta de un nodo\n",
    "    return grafo.nodes[nodo]['etiqueta']"
   ]
  },
  {
   "cell_type": "code",
   "execution_count": 28,
   "id": "cd22a7cc",
   "metadata": {},
   "outputs": [],
   "source": [
    "# dado un nodo de un grafo, obtener su subject\n",
    "def get_subject(nodo, grafo):\n",
    "    \n",
    "    # devuelve el subject de un nodo\n",
    "    return grafo.nodes[nodo]['subject']"
   ]
  },
  {
   "cell_type": "markdown",
   "id": "db204655",
   "metadata": {},
   "source": [
    "Con estos indices, poner etiquetas a los nodos.\n",
    "\n",
    "La etiqueta de un nodo es el indice de su subject."
   ]
  },
  {
   "cell_type": "code",
   "execution_count": 29,
   "id": "5efa939e",
   "metadata": {},
   "outputs": [],
   "source": [
    "# iterar en los nodos\n",
    "for nodo in grafo.nodes():\n",
    "    \n",
    "    # tomar el subject de ese nodo\n",
    "    subject_nodo = get_subject(nodo, grafo)\n",
    "    \n",
    "    # tomar el indice correspondiente\n",
    "    indice_etiqueta_nodo = subj_2_idx[subject_nodo]\n",
    "    \n",
    "    # poner la etiqueta\n",
    "    etiquetar(nodo, indice_etiqueta_nodo, grafo)"
   ]
  },
  {
   "cell_type": "markdown",
   "id": "c23b4a0b",
   "metadata": {},
   "source": [
    "## Distribucion de las hojas"
   ]
  },
  {
   "cell_type": "code",
   "execution_count": 30,
   "id": "22d654b7",
   "metadata": {},
   "outputs": [
    {
     "name": "stdout",
     "output_type": "stream",
     "text": [
      "Se tienen 100446 hojas\n"
     ]
    }
   ],
   "source": [
    "# tomar las hojas\n",
    "hojas = [node for node in grafo.nodes() if grafo.out_degree(node) == 0]\n",
    "print(f\"Se tienen {len(hojas)} hojas\")\n",
    "\n",
    "# obtener las etiquetas de las hojas\n",
    "etiquetas_hojas = np.array([get_etiqueta(hoja, grafo) for hoja in hojas])"
   ]
  },
  {
   "cell_type": "code",
   "execution_count": 31,
   "id": "5647eb17",
   "metadata": {},
   "outputs": [
    {
     "name": "stdout",
     "output_type": "stream",
     "text": [
      "Las proporciones de las hojas son: \n",
      "0.005 para la etiqueta 00—General\n",
      "0.003 para la etiqueta 01—History and biography\n",
      "0.016 para la etiqueta 03—Mathematical logic and foundations\n",
      "0.021 para la etiqueta 05—Combinatorics\n",
      "0.002 para la etiqueta 06—Order, lattices, ordered algebraic structures\n",
      "0.002 para la etiqueta 08—General algebraic systems\n",
      "0.021 para la etiqueta 11—Number theory\n",
      "0.001 para la etiqueta 12—Field theory and polynomials\n",
      "0.005 para la etiqueta 13—Commutative rings and algebras\n",
      "0.017 para la etiqueta 14—Algebraic geometry\n",
      "0.004 para la etiqueta 15—Linear and multilinear algebra; matrix theory\n",
      "0.008 para la etiqueta 16—Associative rings and algebras\n",
      "0.003 para la etiqueta 17—Nonassociative rings and algebras\n",
      "0.004 para la etiqueta 18—Category theory, homological algebra\n",
      "0.001 para la etiqueta 19—K-theory\n",
      "0.017 para la etiqueta 20—Group theory and generalizations\n",
      "0.002 para la etiqueta 22—Topological groups, Lie groups\n",
      "0.003 para la etiqueta 26—Real functions\n",
      "0.001 para la etiqueta 28—Measure and integration\n",
      "0.006 para la etiqueta 30—Functions of a complex variable\n",
      "0.001 para la etiqueta 31—Potential theory\n",
      "0.003 para la etiqueta 32—Several complex variables and analytic spaces\n",
      "0.001 para la etiqueta 33—Special functions\n",
      "0.011 para la etiqueta 34—Ordinary differential equations\n",
      "0.03 para la etiqueta 35—Partial differential equations\n",
      "0.013 para la etiqueta 37—Dynamical systems and ergodic theory\n",
      "0.001 para la etiqueta 39—Finite differences and functional equations\n",
      "0.001 para la etiqueta 40—Sequences, series, summability\n",
      "0.004 para la etiqueta 41—Approximations and expansions\n",
      "0.004 para la etiqueta 42—Fourier analysis\n",
      "0.001 para la etiqueta 43—Abstract harmonic analysis\n",
      "0.0 para la etiqueta 44—Integral transforms, operational calculus\n",
      "0.001 para la etiqueta 45—Integral equations\n",
      "0.018 para la etiqueta 46—Functional analysis\n",
      "0.008 para la etiqueta 47—Operator theory\n",
      "0.007 para la etiqueta 49—Calculus of variations and optimal control\n",
      "0.005 para la etiqueta 51—Geometry\n",
      "0.004 para la etiqueta 52—Convex and discrete geometry\n",
      "0.015 para la etiqueta 53—Differential geometry\n",
      "0.004 para la etiqueta 54—General topology\n",
      "0.005 para la etiqueta 55—Algebraic topology\n",
      "0.005 para la etiqueta 57—Manifolds and cell complexes\n",
      "0.003 para la etiqueta 58—Global analysis, analysis on manifolds\n",
      "0.036 para la etiqueta 60—Probability theory and stochastic processes\n",
      "0.09 para la etiqueta 62—Statistics\n",
      "0.038 para la etiqueta 65—Numerical analysis\n",
      "0.184 para la etiqueta 68—Computer science\n",
      "0.004 para la etiqueta 70—Mechanics of particles and systems\n",
      "0.011 para la etiqueta 74—Mechanics of deformable solids\n",
      "0.02 para la etiqueta 76—Fluid mechanics\n",
      "0.007 para la etiqueta 78—Optics, electromagnetic theory\n",
      "0.002 para la etiqueta 80—Classical thermodynamics, heat transfer\n",
      "0.021 para la etiqueta 81—Quantum Theory\n",
      "0.011 para la etiqueta 82—Statistical mechanics, structure of matter\n",
      "0.009 para la etiqueta 83—Relativity and gravitational theory\n",
      "0.013 para la etiqueta 85—Astronomy and astrophysics\n",
      "0.006 para la etiqueta 86—Geophysics\n",
      "0.033 para la etiqueta 90—Operations research, mathematical programming\n",
      "0.138 para la etiqueta 91—Game theory, economics, social and behavioral sciences\n",
      "0.023 para la etiqueta 92—Biology and other natural sciences\n",
      "0.021 para la etiqueta 93—Systems theory; control\n",
      "0.029 para la etiqueta 94—Information and communication, circuits\n",
      "0.017 para la etiqueta 97—Mathematics education\n"
     ]
    }
   ],
   "source": [
    "# obtener las proporciones de las etiquetas en las hojas\n",
    "\n",
    "proporciones_hojas = [-1] * numero_subjects\n",
    "\n",
    "# tal que \n",
    "# proporciones_hojas[0] = proporcion de hojas con etiqueta con indice 0\n",
    "\n",
    "for idx_etiqueta in range(numero_subjects):\n",
    "    \n",
    "    # obtener el numero de hojas con este indice de etiqeuta\n",
    "    num_hojas = sum([1 for etiqueta_hoja in etiquetas_hojas\n",
    "                    if etiqueta_hoja == idx_etiqueta])\n",
    "    \n",
    "    # añadir la proporcion\n",
    "    # el numero de hojas con ese etiqeuta \n",
    "    # sobre el numero total del hojas\n",
    "    proporciones_hojas[idx_etiqueta] = num_hojas/len(hojas)\n",
    "    \n",
    "    \n",
    "# ver que sumen a 1\n",
    "assert np.isclose(np.sum(proporciones_hojas), 1)\n",
    "\n",
    "print(\"Las proporciones de las hojas son: \")\n",
    "#print(proporciones_hojas)\n",
    "\n",
    "for idx, proporcion in enumerate(proporciones_hojas):\n",
    "    print(f\"{round(proporcion, 3)} para la etiqueta {idx_2_subj[idx]}\")"
   ]
  },
  {
   "cell_type": "markdown",
   "id": "3a3e40c0",
   "metadata": {},
   "source": [
    "## Distribucion de las etiquetas en todo el grafo"
   ]
  },
  {
   "cell_type": "code",
   "execution_count": 32,
   "id": "2cefbeb8",
   "metadata": {},
   "outputs": [
    {
     "name": "stdout",
     "output_type": "stream",
     "text": [
      "Se tienen 131668 nodos en todo el arbol\n",
      "Checar la distribucion\n"
     ]
    }
   ],
   "source": [
    "# se tienen las etiquetas de todo el arbol\n",
    "\n",
    "# tomar los nodos\n",
    "nodos = grafo.nodes()\n",
    "\n",
    "# obtener las etiquetas de todos los nodos\n",
    "etiquetas_full = np.array([get_etiqueta(node, grafo) for node in nodos])\n",
    "\n",
    "\n",
    "print(f\"Se tienen {len(etiquetas_full)} nodos en todo el arbol\")\n",
    "print(\"Checar la distribucion\")"
   ]
  },
  {
   "cell_type": "code",
   "execution_count": 33,
   "id": "cb900d0c",
   "metadata": {},
   "outputs": [
    {
     "name": "stdout",
     "output_type": "stream",
     "text": [
      "Las proporciones de los nodos en el arbol son: \n",
      "0.005 para la etiqueta 00—General\n",
      "0.003 para la etiqueta 01—History and biography\n",
      "0.018 para la etiqueta 03—Mathematical logic and foundations\n",
      "0.021 para la etiqueta 05—Combinatorics\n",
      "0.002 para la etiqueta 06—Order, lattices, ordered algebraic structures\n",
      "0.002 para la etiqueta 08—General algebraic systems\n",
      "0.021 para la etiqueta 11—Number theory\n",
      "0.001 para la etiqueta 12—Field theory and polynomials\n",
      "0.005 para la etiqueta 13—Commutative rings and algebras\n",
      "0.017 para la etiqueta 14—Algebraic geometry\n",
      "0.003 para la etiqueta 15—Linear and multilinear algebra; matrix theory\n",
      "0.008 para la etiqueta 16—Associative rings and algebras\n",
      "0.003 para la etiqueta 17—Nonassociative rings and algebras\n",
      "0.004 para la etiqueta 18—Category theory, homological algebra\n",
      "0.001 para la etiqueta 19—K-theory\n",
      "0.018 para la etiqueta 20—Group theory and generalizations\n",
      "0.003 para la etiqueta 22—Topological groups, Lie groups\n",
      "0.003 para la etiqueta 26—Real functions\n",
      "0.001 para la etiqueta 28—Measure and integration\n",
      "0.006 para la etiqueta 30—Functions of a complex variable\n",
      "0.001 para la etiqueta 31—Potential theory\n",
      "0.003 para la etiqueta 32—Several complex variables and analytic spaces\n",
      "0.001 para la etiqueta 33—Special functions\n",
      "0.011 para la etiqueta 34—Ordinary differential equations\n",
      "0.031 para la etiqueta 35—Partial differential equations\n",
      "0.013 para la etiqueta 37—Dynamical systems and ergodic theory\n",
      "0.001 para la etiqueta 39—Finite differences and functional equations\n",
      "0.001 para la etiqueta 40—Sequences, series, summability\n",
      "0.004 para la etiqueta 41—Approximations and expansions\n",
      "0.004 para la etiqueta 42—Fourier analysis\n",
      "0.001 para la etiqueta 43—Abstract harmonic analysis\n",
      "0.0 para la etiqueta 44—Integral transforms, operational calculus\n",
      "0.001 para la etiqueta 45—Integral equations\n",
      "0.019 para la etiqueta 46—Functional analysis\n",
      "0.007 para la etiqueta 47—Operator theory\n",
      "0.006 para la etiqueta 49—Calculus of variations and optimal control\n",
      "0.006 para la etiqueta 51—Geometry\n",
      "0.004 para la etiqueta 52—Convex and discrete geometry\n",
      "0.016 para la etiqueta 53—Differential geometry\n",
      "0.005 para la etiqueta 54—General topology\n",
      "0.006 para la etiqueta 55—Algebraic topology\n",
      "0.005 para la etiqueta 57—Manifolds and cell complexes\n",
      "0.003 para la etiqueta 58—Global analysis, analysis on manifolds\n",
      "0.037 para la etiqueta 60—Probability theory and stochastic processes\n",
      "0.087 para la etiqueta 62—Statistics\n",
      "0.037 para la etiqueta 65—Numerical analysis\n",
      "0.172 para la etiqueta 68—Computer science\n",
      "0.005 para la etiqueta 70—Mechanics of particles and systems\n",
      "0.012 para la etiqueta 74—Mechanics of deformable solids\n",
      "0.022 para la etiqueta 76—Fluid mechanics\n",
      "0.009 para la etiqueta 78—Optics, electromagnetic theory\n",
      "0.002 para la etiqueta 80—Classical thermodynamics, heat transfer\n",
      "0.023 para la etiqueta 81—Quantum Theory\n",
      "0.012 para la etiqueta 82—Statistical mechanics, structure of matter\n",
      "0.01 para la etiqueta 83—Relativity and gravitational theory\n",
      "0.014 para la etiqueta 85—Astronomy and astrophysics\n",
      "0.007 para la etiqueta 86—Geophysics\n",
      "0.032 para la etiqueta 90—Operations research, mathematical programming\n",
      "0.137 para la etiqueta 91—Game theory, economics, social and behavioral sciences\n",
      "0.024 para la etiqueta 92—Biology and other natural sciences\n",
      "0.021 para la etiqueta 93—Systems theory; control\n",
      "0.028 para la etiqueta 94—Information and communication, circuits\n",
      "0.016 para la etiqueta 97—Mathematics education\n"
     ]
    }
   ],
   "source": [
    "# obtener las proporciones de las etiquetas en todo el arbol\n",
    "\n",
    "proporciones_arbol = [-1] * numero_subjects\n",
    "\n",
    "# tal que \n",
    "# proporciones_arbol[0] = proporcion de nodos en todo el arbol con etiqueta con indice 0\n",
    "\n",
    "\n",
    "for idx_etiqueta in range(numero_subjects):\n",
    "    \n",
    "    # obtener el numero de nodos con este indice de etiqeuta\n",
    "    num_nodos = sum([1 for etiqueta_nodo in etiquetas_full\n",
    "                    if etiqueta_nodo == idx_etiqueta])\n",
    "    \n",
    "    # añadir la proporcion\n",
    "    # el numero de nodos con ese etiqeuta \n",
    "    # sobre el numero total del nodos\n",
    "    proporciones_arbol[idx_etiqueta] = num_nodos/len(etiquetas_full)\n",
    "    \n",
    "    \n",
    "# ver que sumen a 1\n",
    "assert np.isclose(np.sum(proporciones_arbol), 1)\n",
    "\n",
    "print(\"Las proporciones de los nodos en el arbol son: \")\n",
    "#print(proporciones_hojas)\n",
    "\n",
    "for idx, proporcion in enumerate(proporciones_arbol):\n",
    "    print(f\"{round(proporcion, 3)} para la etiqueta {idx_2_subj[idx]}\")"
   ]
  },
  {
   "cell_type": "markdown",
   "id": "3ec99158",
   "metadata": {},
   "source": [
    "## Estimar la matriz de transicion de la cadena de markov\n",
    "\n",
    "Recordar que se asume que el etiquetado viene de una cadena de markov, estimar \n",
    "la matriz de transicion de esta cadena."
   ]
  },
  {
   "cell_type": "code",
   "execution_count": 34,
   "id": "c5e09c07",
   "metadata": {},
   "outputs": [],
   "source": [
    "# comprueba que una matriz es una matriz de probabilidad\n",
    "# i.e que las filas suman a 1, y no tiene entradas negativas\n",
    "def comprobar_matriz_probabilidad(matriz):\n",
    "    \n",
    "    # verificar si todas las entradas son no negativas\n",
    "    if np.any(matriz < 0):\n",
    "        return False\n",
    "    \n",
    "    # verificar si la suma de cada fila es aproximadamente igual a 1\n",
    "    filas_suman_a_1 = np.all(np.isclose(np.sum(matriz, axis=1), 1))\n",
    "    \n",
    "    return filas_suman_a_1"
   ]
  },
  {
   "cell_type": "code",
   "execution_count": 35,
   "id": "9124e8da",
   "metadata": {},
   "outputs": [],
   "source": [
    "def estimar_markov(grafo, num_etiquetas):\n",
    "    '''\n",
    "    Toma un grafo etiquetado\n",
    "    Es decir, donde cada nodo tiene un atributo con nombre 'etiqueta'\n",
    "    Las etiquetas son numeros en {0, 1, ..., num_etiquetas-1}\n",
    "    Se asume que el etiquetado del grafo sigue un proceso de cadena de markov\n",
    "    Se busca estimar la matriz de transicion de esta\n",
    "    Se devuelve la estimacion de esta matriz de transicion\n",
    "    '''\n",
    "\n",
    "    # hacer una matriz que cuente de donde a donde van las aristas\n",
    "    # inicializar la matriz con ceros\n",
    "    matriz_contar = np.zeros((num_etiquetas, num_etiquetas))\n",
    "\n",
    "    # iterar en las aristas\n",
    "    for edge in grafo.edges():\n",
    "\n",
    "        # tomar al padre, y su etiqueta\n",
    "        padre = edge[0]\n",
    "        etiqueta_padre = get_etiqueta(padre, grafo)\n",
    "\n",
    "        # tomar al hijo, y su etiqueta\n",
    "        hijo = edge[1]\n",
    "        etiqueta_hijo = get_etiqueta(hijo, grafo)\n",
    "\n",
    "\n",
    "        # sumar en uno la cuenta \n",
    "        # de las aristas que vienen de la etiqueta del padre\n",
    "        # a la etiqueta del hijo\n",
    "        matriz_contar[etiqueta_padre, etiqueta_hijo] = matriz_contar[etiqueta_padre, etiqueta_hijo] + 1\n",
    "\n",
    "    # comprobar que se hayan contado todas las aristas del grafo\n",
    "    assert grafo.number_of_edges() == matriz_contar.sum()\n",
    "\n",
    "    # si una fila se llena de ceros\n",
    "    # entonces no se tiene info de la proba condicional\n",
    "    # se llena con unos, para que sea uniforme\n",
    "    for fila in range(matriz_contar.shape[0]):\n",
    "            if np.all(matriz_contar[fila, :] == 0):\n",
    "                print(f\"No se tenia informacion hijos cuyo padre tiene etiqueta: {fila}\")\n",
    "                print(\"La informacion condicional dada esa etiqueta se hace uniforme\")\n",
    "                matriz_contar[fila, :] = 1\n",
    "\n",
    "\n",
    "    # para estimar las probabilidades condicionales\n",
    "    # se normaliza cada fila para que sume uno\n",
    "    matriz_estimada = matriz_contar / matriz_contar.sum(axis=1)[:, np.newaxis]\n",
    "\n",
    "    # comprobar que sea matriz de probabilidad\n",
    "    assert comprobar_matriz_probabilidad(matriz_estimada)\n",
    "\n",
    "    # devolver la estimacion\n",
    "    return matriz_estimada"
   ]
  },
  {
   "cell_type": "code",
   "execution_count": 36,
   "id": "f4e71af6",
   "metadata": {},
   "outputs": [],
   "source": [
    "def get_distribucion_limite(matriz_transicion):\n",
    "    '''\n",
    "    Toma la matriz de transicion de una cadena de markov\n",
    "    Devuelve la distribucion limite de la cadena de markov\n",
    "    \n",
    "    Lo que se hace es checar si es irreducible y aperiodica.\n",
    "    Pues si la cadena de markov es irreducible, aperiodica.\n",
    "    Entonces la distribucion limite es la distribucion estacionaria.\n",
    "    '''\n",
    "    \n",
    "    # comprobar que si sea de probabilidad\n",
    "    assert comprobar_matriz_probabilidad(matriz_transicion)\n",
    "    \n",
    "    # Crear un grafo dirigido desde la matriz de transición\n",
    "    grafo_markov = nx.DiGraph(matriz_transicion)\n",
    "    \n",
    "    # ver si es irreducible\n",
    "    irreducible = nx.is_strongly_connected(grafo_markov)\n",
    "\n",
    "    if irreducible:\n",
    "        print(\"La cadena es irreducible\")\n",
    "    else:\n",
    "        print(\"La cadena no es irreducible\")\n",
    "        return None\n",
    "    \n",
    "    # ver si es aperiodica\n",
    "    is_aperiodic = nx.is_aperiodic(grafo_markov)\n",
    "\n",
    "    if irreducible:\n",
    "        print(\"La cadena es aperiodica\")\n",
    "    else:\n",
    "        print(\"La cadena no es aperiodica\")\n",
    "        return None\n",
    "    \n",
    "    # Calcular la dsitribucion estacionaria\n",
    "    \n",
    "    # eigenvalores y eigenvectores\n",
    "    eigenvalores, eigenvectores = np.linalg.eig(matriz_transicion.T)\n",
    "\n",
    "    # tomar el eigenvector asociado al eigenvalor 1\n",
    "    eigenvector_1 = np.real_if_close(eigenvectores[:, np.isclose(eigenvalores, 1)])\n",
    "\n",
    "    # reshape\n",
    "    eigenvector_1 = eigenvector_1.reshape(-1)\n",
    "\n",
    "    # si suma uno es la distribucion estacionaria\n",
    "    distribucion_estacionaria = eigenvector_1 / np.sum(eigenvector_1)\n",
    "    \n",
    "    # devolverla\n",
    "    return list(distribucion_estacionaria)"
   ]
  },
  {
   "cell_type": "markdown",
   "id": "b6fbb392",
   "metadata": {},
   "source": [
    "Obtener la distribucion limite estimada\n"
   ]
  },
  {
   "cell_type": "code",
   "execution_count": 37,
   "id": "23bb2a16",
   "metadata": {},
   "outputs": [
    {
     "data": {
      "text/plain": [
       "(63, 63)"
      ]
     },
     "execution_count": 37,
     "metadata": {},
     "output_type": "execute_result"
    }
   ],
   "source": [
    "matriz_markov_estimada = estimar_markov(grafo, numero_subjects)\n",
    "matriz_markov_estimada.shape"
   ]
  },
  {
   "cell_type": "code",
   "execution_count": 38,
   "id": "08855159",
   "metadata": {},
   "outputs": [
    {
     "name": "stdout",
     "output_type": "stream",
     "text": [
      "La cadena es irreducible\n",
      "La cadena es aperiodica\n"
     ]
    }
   ],
   "source": [
    "distribucion_limite_estimada = get_distribucion_limite(matriz_markov_estimada)"
   ]
  },
  {
   "cell_type": "markdown",
   "id": "c7a6486c",
   "metadata": {},
   "source": [
    "## Comparar las 3 distribuciones\n",
    "\n",
    "Distribucion limite estimada\n",
    "\n",
    "\n",
    "Distribucion de las hojas\n",
    "\n",
    "Distribucion de todos los nodos"
   ]
  },
  {
   "cell_type": "code",
   "execution_count": 39,
   "id": "72a977c2",
   "metadata": {},
   "outputs": [],
   "source": [
    "# poner las distribuciones a comparar\n",
    "distribuciones = [np.array(distribucion_limite_estimada), np.array(proporciones_hojas), np.array(proporciones_arbol)]\n",
    "\n",
    "# poner los nombres\n",
    "nombres_distribuciones = [\"Distribucion limite (estimada)\", \"Distribucion de las hojas\", \"Distribucion de todos los nodos\"]"
   ]
  },
  {
   "cell_type": "code",
   "execution_count": 40,
   "id": "11ba52af",
   "metadata": {},
   "outputs": [],
   "source": [
    "def plot_distribution(distribucion, ax):\n",
    "    # toma una ditribucion sobre las etiquetas\n",
    "    # la grafica\n",
    "    \n",
    "    # ver que tenga los mismos elementos\n",
    "    assert numero_subjects==len(distribucion)\n",
    "    \n",
    "    # hacer las barras\n",
    "    ax.bar(nombres_subjects, distribucion)\n",
    "    \n",
    "    ## poner los valores\n",
    "    #for i, valor in enumerate(distribucion):\n",
    "        #ax.text(i, valor, f'{valor:.3f}', ha='center', va='bottom')\n",
    "        \n",
    "    # devolevr el ax\n",
    "    return ax"
   ]
  },
  {
   "cell_type": "code",
   "execution_count": 41,
   "id": "3fc865a1",
   "metadata": {
    "scrolled": false
   },
   "outputs": [
    {
     "data": {
      "image/png": "[encoded data removed]",
      "text/plain": [
       "<Figure size 1000x1000 with 3 Axes>"
      ]
     },
     "metadata": {},
     "output_type": "display_data"
    }
   ],
   "source": [
    "fig, ax = plt.subplots(3, 1, figsize = (10, 10))\n",
    "\n",
    "# distribucion limite\n",
    "plot_distribution(distribuciones[0], ax[0])\n",
    "ax[0].set_title(nombres_distribuciones[0])\n",
    "\n",
    "# distribucion de las hojas\n",
    "plot_distribution(distribuciones[1], ax[1])\n",
    "ax[1].set_title(nombres_distribuciones[1])\n",
    "\n",
    "# distribucion de todos los nodos\n",
    "plot_distribution(distribuciones[2], ax[2])\n",
    "ax[2].set_title(nombres_distribuciones[2])\n",
    "\n",
    "ax[0].set_xticks([])\n",
    "ax[1].set_xticks([])\n",
    "ax[2].set_xticks([])\n",
    "\n",
    "# mostrar\n",
    "fig.suptitle(\"Comparacion de las distribuciones\", fontsize=20, fontweight='bold')\n",
    "plt.show()"
   ]
  },
  {
   "cell_type": "code",
   "execution_count": 42,
   "id": "c67bc4ee",
   "metadata": {},
   "outputs": [],
   "source": [
    "# funcion para calcular la KL divergence D(p|q)\n",
    "# no es una metrica, no es simetrica ni lo del triangulo, es una divergencia\n",
    "def KL_divergence(p, q):\n",
    "    return scipy.stats.entropy(p, q)"
   ]
  },
  {
   "cell_type": "code",
   "execution_count": 43,
   "id": "c91f0aee",
   "metadata": {},
   "outputs": [],
   "source": [
    "# calcular la kl_divergence de todos los pares posibles\n",
    "kl_matrix = np.zeros((3, 3))\n",
    "\n",
    "# iterar en los pares\n",
    "for i in range(3):\n",
    "    for j in range(3):\n",
    "        # calccular la divergencia del par correspondiente\n",
    "        kl_matrix[i, j] = KL_divergence(distribuciones[i], distribuciones[j])"
   ]
  },
  {
   "cell_type": "code",
   "execution_count": 44,
   "id": "c40057ac",
   "metadata": {},
   "outputs": [
    {
     "data": {
      "image/png": "[encoded data removed]",
      "text/plain": [
       "<Figure size 500x400 with 2 Axes>"
      ]
     },
     "metadata": {},
     "output_type": "display_data"
    }
   ],
   "source": [
    "# Hacer un heatmap con esta informacion\n",
    "sns.set()\n",
    "plt.figure(figsize=(5, 4))\n",
    "sns.heatmap(kl_matrix, annot=True, cmap=\"YlGnBu\", \n",
    "            xticklabels=nombres_distribuciones, yticklabels=nombres_distribuciones)\n",
    "plt.title(\"KL Divergence Heatmap\")\n",
    "plt.show()"
   ]
  },
  {
   "cell_type": "markdown",
   "id": "268d7a4c",
   "metadata": {},
   "source": [
    "## Ver la distribucion de hijos por nodo\n",
    "\n",
    "Pensar esto como que depende de la etiqueta del padre\n",
    "\n",
    "Ver si la etiqueta del padre tiene alguna influencia en la distribución de los hijos.\n",
    "\n",
    "De este modo, se puede saber si tiene sentido pensar la generación de este arbol con un multitype branching process"
   ]
  },
  {
   "cell_type": "code",
   "execution_count": 45,
   "id": "8ae08a75",
   "metadata": {},
   "outputs": [
    {
     "name": "stdout",
     "output_type": "stream",
     "text": [
      "El numero mayor de hijos para un nodo es 164\n"
     ]
    }
   ],
   "source": [
    "# ver cual es el numero de hijos mayor para todos los nodos\n",
    "num_hijos_mayor = 0\n",
    "\n",
    "# iterar en los nodos\n",
    "for nodo in grafo.nodes():\n",
    "    \n",
    "    # ver el numero de hijos\n",
    "    num_hijos = grafo.out_degree(nodo)\n",
    "    \n",
    "    # ver si tiene mas hijos que el record hasta ahora\n",
    "    if num_hijos > num_hijos_mayor:\n",
    "        # actualizar\n",
    "        num_hijos_mayor = num_hijos\n",
    "\n",
    "print(f\"El numero mayor de hijos para un nodo es {num_hijos_mayor}\")"
   ]
  },
  {
   "cell_type": "markdown",
   "id": "8b8796d7",
   "metadata": {},
   "source": [
    "Funcion para obtener una distribucion en el numero de hijos, cuando se da una muestra."
   ]
  },
  {
   "cell_type": "code",
   "execution_count": 46,
   "id": "23798556",
   "metadata": {},
   "outputs": [],
   "source": [
    "def distribucion_hijos(muestra_hijos):\n",
    "    # se da una muestra del numero de hijos\n",
    "    # se devuelve una distribucion (muestral)\n",
    "    # el soporte de la distribucion es {0, ..., num_hijos_mayor}\n",
    "    # pues es como tener una que se va a infinito, solo se corta donde es 0\n",
    "    \n",
    "    \n",
    "    distribucion = []\n",
    "    \n",
    "    # iterar en el soporte, \n",
    "    for idx in range(0, num_hijos_mayor+1):\n",
    "        \n",
    "        # contar las ocurrancias de este evento en la muestra\n",
    "        numero_ocurrencias_evento = sum([1 for n_hijos in muestra_hijos\n",
    "                                         if n_hijos == idx])\n",
    "        distribucion.append(numero_ocurrencias_evento)\n",
    "        \n",
    "    # hacer que la distribucion sea array\n",
    "    distribucion = np.array(distribucion)\n",
    "    \n",
    "    # comprobar que el soporte sea correcto \n",
    "    assert len(distribucion) == num_hijos_mayor+1\n",
    "    \n",
    "    # comprobar que cuente todos los eventos\n",
    "    assert sum(distribucion) == len(muestra_hijos)\n",
    "    \n",
    "    # normalizar para que sume 1, dividir entre el numero de eventos\n",
    "    distribucion_normalizada = distribucion/len(muestra_hijos)\n",
    "    \n",
    "    # comprobar que suma a 1\n",
    "    assert np.isclose(np.sum(distribucion_normalizada), 1)\n",
    "    \n",
    "    # devolver \n",
    "    return distribucion_normalizada"
   ]
  },
  {
   "cell_type": "markdown",
   "id": "9d3265a0",
   "metadata": {},
   "source": [
    "### Primero ver la distribucion de hijos considerando todos los nodos"
   ]
  },
  {
   "cell_type": "code",
   "execution_count": 47,
   "id": "daefaca2",
   "metadata": {},
   "outputs": [],
   "source": [
    "num_hijos_total = []\n",
    "\n",
    "# iterar en los nodos\n",
    "for nodo in grafo.nodes():\n",
    "    \n",
    "    # ver su num de hijos y añadirlo a la lista\n",
    "    num_hijos_total.append(grafo.out_degree(nodo))\n",
    "    \n",
    "# hacerlo array\n",
    "num_hijos_total = np.array(num_hijos_total)\n",
    "\n",
    "# obtener la distribucion\n",
    "distribucion_total = distribucion_hijos(num_hijos_total)"
   ]
  },
  {
   "cell_type": "code",
   "execution_count": 48,
   "id": "e548069b",
   "metadata": {},
   "outputs": [
    {
     "data": {
      "image/png": "[encoded data removed]",
      "text/plain": [
       "<Figure size 1500x500 with 2 Axes>"
      ]
     },
     "metadata": {},
     "output_type": "display_data"
    }
   ],
   "source": [
    "fig, ax = plt.subplots(1, 2, figsize = (15,5))\n",
    "\n",
    "# hist, pero usando barplot\n",
    "ax[0].bar(np.arange(len(distribucion_total)), distribucion_total)\n",
    "\n",
    "# plot\n",
    "ax[1].plot(distribucion_total)\n",
    "\n",
    "# title\n",
    "fig.suptitle(\"Distribucion considerando todos los nodos\", fontsize=20, fontweight='bold')\n",
    "plt.show()"
   ]
  },
  {
   "cell_type": "markdown",
   "id": "91eb37dd",
   "metadata": {},
   "source": [
    "### Obtener una distribucion de hijos segun la etiqueta del padre"
   ]
  },
  {
   "cell_type": "code",
   "execution_count": 49,
   "id": "705167ab",
   "metadata": {},
   "outputs": [],
   "source": [
    "def muestra_dada_etiqueta(etiqueta):\n",
    "    # toma una etiqueta\n",
    "    # ve a todos los nodos con esa etiqueta\n",
    "    # obtiene una muestra sobre el numero de hijos\n",
    "    \n",
    "    # ir guardando la muestra de los hijos\n",
    "    muestra_hijos = []\n",
    "\n",
    "    # iterar en los nodos\n",
    "    for nodo in grafo.nodes():\n",
    "\n",
    "        # solo poreseguir si es de nuestra etiqueta deseada\n",
    "        if get_etiqueta(nodo, grafo) == etiqueta:\n",
    "            # añadir el numero de hijos a la muestra\n",
    "            muestra_hijos.append(grafo.out_degree(nodo))\n",
    "\n",
    "    # devolver la distribucion\n",
    "    return np.array(muestra_hijos)"
   ]
  },
  {
   "cell_type": "code",
   "execution_count": 50,
   "id": "21216396",
   "metadata": {},
   "outputs": [],
   "source": [
    "def distribucion_dada_etiqueta(etiqueta):\n",
    "    # toma una etiqueta\n",
    "    # ve a todos los nodos con esa etiqueta\n",
    "    # obtiene una distribucion sobre el numero de hijos\n",
    "    \n",
    "    # tomar la muestra de hijos dada esa etiqueta\n",
    "    muestra_hijos = muestra_dada_etiqueta(etiqueta)\n",
    "\n",
    "    # ya que se tiene la muestra,\n",
    "    # la cuenta de hijos,\n",
    "    # obtener la distribucion \n",
    "    distribucion_etiqueta = distribucion_hijos(muestra_hijos)\n",
    "\n",
    "    # devolver la distribucion\n",
    "    return distribucion_etiqueta"
   ]
  },
  {
   "cell_type": "code",
   "execution_count": 51,
   "id": "fa1976e5",
   "metadata": {},
   "outputs": [],
   "source": [
    "# por cada posible etiqueta, poner su distribucion\n",
    "distribuciones_subj = []\n",
    "\n",
    "# iterar en los subjects\n",
    "for subj in nombres_subjects:\n",
    "    # tomar el indice\n",
    "    idx_del_subj = subj_2_idx[subj]\n",
    "    \n",
    "    # tomar la distribucion de hijos para esa etiqueta\n",
    "    # añadirla a las distribuciones\n",
    "    distribuciones_subj.append(distribucion_dada_etiqueta(idx_del_subj))\n",
    "\n",
    "# comprobar que se tengan tantas como subjects\n",
    "assert len(distribuciones_subj) == numero_subjects"
   ]
  },
  {
   "cell_type": "markdown",
   "id": "91068966",
   "metadata": {},
   "source": [
    "Hacer una matriz de heatmap para compararlas entre ellas"
   ]
  },
  {
   "cell_type": "code",
   "execution_count": 52,
   "id": "608fb0c9",
   "metadata": {},
   "outputs": [],
   "source": [
    "# calcular la kl_divergence de todos los pares posibles\n",
    "kl_matrix_subj = np.zeros((numero_subjects, numero_subjects))\n",
    "\n",
    "# iterar en los pares\n",
    "for i in range(numero_subjects):\n",
    "    for j in range(numero_subjects):\n",
    "        # tomar ambas distribuciones de interes\n",
    "        distribucion_1 = distribuciones_subj[i]\n",
    "        distribucion_2 = distribuciones_subj[j]\n",
    "        \n",
    "        # calccular la divergencia del par correspondiente\n",
    "        kl_matrix_subj[i, j] = KL_divergence(distribucion_1, distribucion_2)"
   ]
  },
  {
   "cell_type": "code",
   "execution_count": 53,
   "id": "63b30550",
   "metadata": {},
   "outputs": [
    {
     "data": {
      "image/png": "[encoded data removed]",
      "text/plain": [
       "<Figure size 500x400 with 2 Axes>"
      ]
     },
     "metadata": {},
     "output_type": "display_data"
    }
   ],
   "source": [
    "# Hacer un heatmap con esta informacion\n",
    "sns.set()\n",
    "plt.figure(figsize=(5, 4))\n",
    "heatmap = sns.heatmap(kl_matrix_subj, annot=False, cmap=\"YlGnBu\", \n",
    "            xticklabels=[], yticklabels=[])\n",
    "plt.title(\"KL Divergence Heatmap\")\n",
    "plt.show()"
   ]
  },
  {
   "cell_type": "code",
   "execution_count": 54,
   "id": "b37087e6",
   "metadata": {},
   "outputs": [
    {
     "data": {
      "text/plain": [
       "array([[0.        ,        inf, 0.05320374, ..., 0.04911337, 0.05678969,\n",
       "        0.05810193],\n",
       "       [       inf, 0.        , 0.0602683 , ..., 0.07568688, 0.10017544,\n",
       "        0.09538713],\n",
       "       [       inf,        inf, 0.        , ...,        inf,        inf,\n",
       "               inf],\n",
       "       ...,\n",
       "       [       inf,        inf,        inf, ..., 0.        ,        inf,\n",
       "               inf],\n",
       "       [       inf,        inf,        inf, ...,        inf, 0.        ,\n",
       "               inf],\n",
       "       [       inf,        inf,        inf, ...,        inf,        inf,\n",
       "        0.        ]])"
      ]
     },
     "execution_count": 54,
     "metadata": {},
     "output_type": "execute_result"
    }
   ],
   "source": [
    "kl_matrix_subj"
   ]
  },
  {
   "cell_type": "markdown",
   "id": "5dfb9f59",
   "metadata": {},
   "source": [
    "Tiene muchos infinitos, arreglar esto sumandole un pequeño numero a las distribuciones"
   ]
  },
  {
   "cell_type": "code",
   "execution_count": 55,
   "id": "3fd02247",
   "metadata": {},
   "outputs": [],
   "source": [
    "# definir en numero mas peuqño posible\n",
    "smallest_float = sys.float_info.epsilon"
   ]
  },
  {
   "cell_type": "code",
   "execution_count": 56,
   "id": "3fdf1a1c",
   "metadata": {},
   "outputs": [],
   "source": [
    "# calcular la kl_divergence de todos los pares posibles\n",
    "kl_matrix_subj = np.zeros((numero_subjects, numero_subjects))\n",
    "\n",
    "# iterar en los pares\n",
    "for i in range(numero_subjects):\n",
    "    for j in range(numero_subjects):\n",
    "        # tomar ambas distribuciones de interes\n",
    "        distribucion_1 = distribuciones_subj[i]\n",
    "        distribucion_2 = distribuciones_subj[j]\n",
    "        \n",
    "        # para evitar infinitos, sumar un numero muy pequeño a ambas\n",
    "        distribucion_1 = distribucion_1 + smallest_float\n",
    "        distribucion_2 = distribucion_2 + smallest_float\n",
    "        \n",
    "        # calccular la divergencia del par correspondiente\n",
    "        kl_matrix_subj[i, j] = KL_divergence(distribucion_1, distribucion_2)"
   ]
  },
  {
   "cell_type": "code",
   "execution_count": 57,
   "id": "a69540c6",
   "metadata": {},
   "outputs": [
    {
     "data": {
      "image/png": "[encoded data removed]",
      "text/plain": [
       "<Figure size 500x400 with 2 Axes>"
      ]
     },
     "metadata": {},
     "output_type": "display_data"
    }
   ],
   "source": [
    "# Hacer un heatmap con esta informacion\n",
    "sns.set()\n",
    "plt.figure(figsize=(5, 4))\n",
    "heatmap = sns.heatmap(kl_matrix_subj, annot=False, cmap=\"YlGnBu\", \n",
    "            xticklabels=[], yticklabels=[])\n",
    "plt.title(\"KL Divergence Heatmap\")\n",
    "plt.show()"
   ]
  },
  {
   "cell_type": "markdown",
   "id": "7c43527c",
   "metadata": {},
   "source": [
    "### Seguir comparando las distribuciones sobre los hijos dependiendo la etiqueta."
   ]
  },
  {
   "cell_type": "code",
   "execution_count": 58,
   "id": "4de1d270",
   "metadata": {},
   "outputs": [],
   "source": [
    "# por cada posible etiqueta, poner la muestra del numero de hijos\n",
    "muestras_subj = []\n",
    "\n",
    "# iterar en los subjects\n",
    "for subj in nombres_subjects:\n",
    "    # tomar el indice\n",
    "    idx_del_subj = subj_2_idx[subj]\n",
    "    \n",
    "    # obtener la muestra de hijos para esa etiqueta\n",
    "    # añadirla a todas las muestas\n",
    "    muestras_subj.append(muestra_dada_etiqueta(idx_del_subj))"
   ]
  },
  {
   "cell_type": "code",
   "execution_count": 59,
   "id": "7d7ce0b6",
   "metadata": {},
   "outputs": [
    {
     "data": {
      "text/plain": [
       "array([  710,   402,  2418,  2711,   255,   258,  2789,   167,   593,\n",
       "        2250,   453,  1071,   457,   479,   118,  2361,   336,   360,\n",
       "         192,   811,    99,   428,   154,  1387,  4065,  1761,   132,\n",
       "         144,   582,   531,   171,    63,   131,  2439,   978,   837,\n",
       "         788,   517,  2082,   635,   726,   685,   407,  4809, 11416,\n",
       "        4844, 22697,   617,  1525,  2866,  1174,   264,  3049,  1614,\n",
       "        1272,  1809,   897,  4191, 17990,  3197,  2753,  3648,  2103])"
      ]
     },
     "execution_count": 59,
     "metadata": {},
     "output_type": "execute_result"
    }
   ],
   "source": [
    "# por cada muestra, tomar el tamaño de la muestra\n",
    "tamaños_subj = np.array([len(muestras_subj[i]) for i in range(len(muestras_subj))])\n",
    "tamaños_subj"
   ]
  },
  {
   "cell_type": "code",
   "execution_count": 60,
   "id": "e0967316",
   "metadata": {},
   "outputs": [],
   "source": [
    "# por cada muestra, tomar la media\n",
    "medias_subj = np.array([muestras_subj[i].mean() for i in range(len(muestras_subj))])"
   ]
  },
  {
   "cell_type": "code",
   "execution_count": 61,
   "id": "07da75dc",
   "metadata": {},
   "outputs": [
    {
     "data": {
      "image/png": "[encoded data removed]",
      "text/plain": [
       "<Figure size 640x480 with 1 Axes>"
      ]
     },
     "metadata": {},
     "output_type": "display_data"
    }
   ],
   "source": [
    "# visualizar las distintas medias, segun los subject\n",
    "fig, ax = plt.subplots()\n",
    "\n",
    "# graficar los indices de los subject en el eje x\n",
    "# la media de hijos para ese subject en el eje y\n",
    "ax.scatter(np.arange(len(nombres_subjects)), medias_subj)\n",
    "\n",
    "plt.xlabel(\"Indice del subject\")\n",
    "plt.ylabel(\"Media de hijos\")\n",
    "\n",
    "plt.title(\"Media de hijos por cada subject\")\n",
    "plt.show()"
   ]
  },
  {
   "cell_type": "markdown",
   "id": "94cf407e",
   "metadata": {},
   "source": [
    "## Estimar los parametros del multi-type branching process\n",
    "\n",
    "Asumir que el grafo viene de un multi-type branching process de nuestro modelo. Se estiman los parametros, que son la matriz de transicion y las esperanzas de cada distribucion de hijos.\n",
    "\n",
    "La matriz de transicion ya fue estimada, ademas, el estimador de maxima verosimilitud de la esperanza la media, y ya se tiene la media de cada tipo. Entonces ya estan estimados los parametros.\n"
   ]
  },
  {
   "cell_type": "code",
   "execution_count": 62,
   "id": "3942e4f9",
   "metadata": {},
   "outputs": [
    {
     "data": {
      "text/plain": [
       "(63, 63)"
      ]
     },
     "execution_count": 62,
     "metadata": {},
     "output_type": "execute_result"
    }
   ],
   "source": [
    "# matri de transicion\n",
    "matriz_markov_estimada.shape"
   ]
  },
  {
   "cell_type": "markdown",
   "id": "1eabb4f1",
   "metadata": {},
   "source": [
    "Poner los parametros en la forma en la que se pone en la teoria."
   ]
  },
  {
   "cell_type": "code",
   "execution_count": 63,
   "id": "6808ce0c",
   "metadata": {},
   "outputs": [
    {
     "data": {
      "text/plain": [
       "(63, 63)"
      ]
     },
     "execution_count": 63,
     "metadata": {},
     "output_type": "execute_result"
    }
   ],
   "source": [
    "# hacer la matriz H\n",
    "H = np.diag(medias_subj)\n",
    "H.shape"
   ]
  },
  {
   "cell_type": "code",
   "execution_count": 64,
   "id": "df586ea7",
   "metadata": {},
   "outputs": [
    {
     "data": {
      "text/plain": [
       "(63, 63)"
      ]
     },
     "execution_count": 64,
     "metadata": {},
     "output_type": "execute_result"
    }
   ],
   "source": [
    "P = matriz_markov_estimada.T\n",
    "P.shape"
   ]
  },
  {
   "cell_type": "code",
   "execution_count": 65,
   "id": "a15f4380",
   "metadata": {},
   "outputs": [
    {
     "data": {
      "text/plain": [
       "(63, 63)"
      ]
     },
     "execution_count": 65,
     "metadata": {},
     "output_type": "execute_result"
    }
   ],
   "source": [
    "# multiplicarlas\n",
    "PH = np.dot(P, H)\n",
    "PH.shape"
   ]
  },
  {
   "cell_type": "markdown",
   "id": "2c44f873",
   "metadata": {},
   "source": [
    "### Obtener la distribucion convergencia\n",
    "\n",
    "Esta es la proporcion de las columnas (igual para cada columna) de $(PH)^n$ cuando n tiende a infinito."
   ]
  },
  {
   "cell_type": "code",
   "execution_count": 66,
   "id": "f4b38661",
   "metadata": {},
   "outputs": [],
   "source": [
    "# elevar la matriz a una potencia muy alta\n",
    "n = 1000\n",
    "PH_n = np.linalg.matrix_power(PH, n)"
   ]
  },
  {
   "cell_type": "code",
   "execution_count": 67,
   "id": "89145c74",
   "metadata": {},
   "outputs": [],
   "source": [
    "def proporcion_columna(A, idx_col):\n",
    "    # devuelve la columna idx_col de A\n",
    "    # normalizada para que sume 1\n",
    "    return A[:, idx_col]/A[:, idx_col].sum()"
   ]
  },
  {
   "cell_type": "code",
   "execution_count": 68,
   "id": "abb55b52",
   "metadata": {},
   "outputs": [],
   "source": [
    "# ver que la proporcion de todas las columnas sean iguales\n",
    "# para cada par de columnas, su proporcion es la misa\n",
    "for i in range(numero_subjects):\n",
    "    for j in range(numero_subjects):\n",
    "        assert np.isclose(proporcion_columna(PH_n, i), proporcion_columna(PH_n, j)).all()"
   ]
  },
  {
   "cell_type": "code",
   "execution_count": 69,
   "id": "b021f3e8",
   "metadata": {},
   "outputs": [],
   "source": [
    "# esta prorporcion es la proporcion convergenica\n",
    "# como son iguales, tomar de la columna que sea\n",
    "proporcion_convergencia = proporcion_columna(PH_n, 0)"
   ]
  },
  {
   "cell_type": "code",
   "execution_count": 70,
   "id": "40b2f1fd",
   "metadata": {},
   "outputs": [],
   "source": [
    "# ver que esto es igual al vector propio de perron de PH\n",
    "\n",
    "# obtener vectores y valores propios\n",
    "eigenvalues, eigenvectors = np.linalg.eig(PH)\n",
    "\n",
    "# ver el indice del valor propio de perro-frobenius\n",
    "indice_perron = np.argmax(np.abs(eigenvalues))\n",
    "\n",
    "# tomar el vector propio asociado\n",
    "vector_propio_perron = eigenvectors[:, indice_perron]\n",
    "\n",
    "# normalizar para que sean proporciones\n",
    "proporciones_perron = vector_propio_perron/vector_propio_perron.sum()\n",
    "\n",
    "# ver que son iguales\n",
    "assert(np.isclose(proporciones_perron, proporcion_convergencia).all())"
   ]
  },
  {
   "cell_type": "markdown",
   "id": "e261283f",
   "metadata": {},
   "source": [
    "### Comparar la \"proporcion convergencia\" con las distribuciones anteriores.\n",
    "\n",
    "Anteriormente se comparaban:\n",
    "\n",
    "1) Distribucion limite de la cadena de markov estimada\n",
    "\n",
    "2) Distribucion de etiquetas en las hojas\n",
    "\n",
    "3) Distribucion de etiquetas en todos los nodos\n",
    "\n",
    "Agregar la \"proporcion convergencia\" a esta comparacion"
   ]
  },
  {
   "cell_type": "code",
   "execution_count": 71,
   "id": "2b6155b1",
   "metadata": {},
   "outputs": [],
   "source": [
    "# agregarla a las distribuciones a considerar\n",
    "distribuciones.append(proporcion_convergencia)\n",
    "nombres_distribuciones.append(\"Proporcion convergencia\")"
   ]
  },
  {
   "cell_type": "code",
   "execution_count": 72,
   "id": "8b2525b7",
   "metadata": {},
   "outputs": [
    {
     "data": {
      "text/plain": [
       "['Distribucion limite (estimada)',\n",
       " 'Distribucion de las hojas',\n",
       " 'Distribucion de todos los nodos',\n",
       " 'Proporcion convergencia']"
      ]
     },
     "execution_count": 72,
     "metadata": {},
     "output_type": "execute_result"
    }
   ],
   "source": [
    "nombres_distribuciones"
   ]
  },
  {
   "cell_type": "code",
   "execution_count": 73,
   "id": "32d056b1",
   "metadata": {},
   "outputs": [
    {
     "data": {
      "image/png": "[encoded data removed]",
      "text/plain": [
       "<Figure size 1400x1000 with 4 Axes>"
      ]
     },
     "metadata": {},
     "output_type": "display_data"
    }
   ],
   "source": [
    "fig, ax = plt.subplots(4, 1, figsize = (14, 10))\n",
    "\n",
    "# distribucion limite\n",
    "plot_distribution(distribuciones[0], ax[0])\n",
    "ax[0].set_title(nombres_distribuciones[0])\n",
    "\n",
    "# distribucion de las hojas\n",
    "plot_distribution(distribuciones[1], ax[1])\n",
    "ax[1].set_title(nombres_distribuciones[1])\n",
    "\n",
    "# distribucion de todos los nodos\n",
    "plot_distribution(distribuciones[2], ax[2])\n",
    "ax[2].set_title(nombres_distribuciones[2])\n",
    "\n",
    "# proporcion convergencia\n",
    "plot_distribution(distribuciones[3], ax[3])\n",
    "ax[3].set_title(nombres_distribuciones[3])\n",
    "\n",
    "ax[0].set_xticks([])\n",
    "ax[1].set_xticks([])\n",
    "ax[2].set_xticks([])\n",
    "ax[3].set_xticks([])\n",
    "\n",
    "# mostrar\n",
    "fig.suptitle(\"Comparacion de las distribuciones\", fontsize=20, fontweight='bold')\n",
    "plt.show()"
   ]
  },
  {
   "cell_type": "code",
   "execution_count": 74,
   "id": "f35eeb70",
   "metadata": {},
   "outputs": [],
   "source": [
    "# calcular la kl_divergence de todos los pares posibles\n",
    "kl_matrix = np.zeros((4, 4))\n",
    "\n",
    "# iterar en los pares\n",
    "for i in range(4):\n",
    "    for j in range(4):\n",
    "        # calccular la divergencia del par correspondiente\n",
    "        kl_matrix[i, j] = KL_divergence(distribuciones[i], distribuciones[j])"
   ]
  },
  {
   "cell_type": "code",
   "execution_count": 75,
   "id": "c255ac44",
   "metadata": {},
   "outputs": [
    {
     "data": {
      "image/png": "[encoded data removed]",
      "text/plain": [
       "<Figure size 500x400 with 2 Axes>"
      ]
     },
     "metadata": {},
     "output_type": "display_data"
    }
   ],
   "source": [
    "# Hacer un heatmap con esta informacion\n",
    "sns.set()\n",
    "plt.figure(figsize=(5, 4))\n",
    "sns.heatmap(kl_matrix, annot=True, cmap=\"YlGnBu\", \n",
    "            xticklabels=nombres_distribuciones, yticklabels=nombres_distribuciones)\n",
    "plt.title(\"KL Divergence Heatmap\")\n",
    "plt.show()"
   ]
  },
  {
   "cell_type": "markdown",
   "id": "7c8cfa61",
   "metadata": {},
   "source": [
    "Se puede ver que la distribucion convergencia explica la distribucion de etiquetas en los nodos de una mucho mejor forma que la distribucion limite de la cadena de markov.\n",
    "\n",
    "### Esto refuerza la idea de que modelo propuesto (tipo multi-type branching process ), es bueno para modelar los datos, mas que simple markov."
   ]
  },
  {
   "cell_type": "markdown",
   "id": "deccf811",
   "metadata": {},
   "source": [
    "## Ver unas cosas de teoría. Asumiendo que el modelo estimado si es el real."
   ]
  },
  {
   "cell_type": "code",
   "execution_count": 76,
   "id": "ef4aa808",
   "metadata": {},
   "outputs": [],
   "source": [
    "# Por la construccion de la matriz, la matriz M del teorema es igual a PH\n",
    "M = PH.T"
   ]
  },
  {
   "cell_type": "code",
   "execution_count": 77,
   "id": "399efeeb",
   "metadata": {},
   "outputs": [],
   "source": [
    "# obtener el valor proprio de PERRON-FROBENIUS\n",
    "\n",
    "# tomar valores propios\n",
    "right_eigenvalues, right_eigenvectors = np.linalg.eig(M)\n",
    "\n",
    "# ver el que tiene valor absoluto mayor\n",
    "indx_r = np.where(right_eigenvalues == abs(right_eigenvalues).max())\n",
    "\n",
    "# comprobar que solo es uno\n",
    "assert len(indx_r) == 1\n",
    "\n",
    "# tomar el eigen valor corresnpondiente, \n",
    "# la raiz de perron-frobenius\n",
    "p_frobenius = right_eigenvalues[indx_r]"
   ]
  },
  {
   "attachments": {
    "image.png": {
     "image/png": "[encoded data removed]"
    }
   },
   "cell_type": "markdown",
   "id": "1e0580c9",
   "metadata": {},
   "source": [
    "![image.png](attachment:image.png)\n",
    "\n",
    "**q** $= (q_1, ..., q_m)$\n",
    "\n",
    "Donde $q_i$ es la probabilidad de se extinga el proceso cuando $Z_0 = e_i$\n"
   ]
  },
  {
   "cell_type": "code",
   "execution_count": 78,
   "id": "974df9d4",
   "metadata": {},
   "outputs": [
    {
     "data": {
      "text/plain": [
       "array([0.89152122+0.j])"
      ]
     },
     "execution_count": 78,
     "metadata": {},
     "output_type": "execute_result"
    }
   ],
   "source": [
    "p_frobenius"
   ]
  },
  {
   "cell_type": "markdown",
   "id": "400eea02",
   "metadata": {},
   "source": [
    "Es menor a uno, entonces la probabilidad de extincion es de 1.\n",
    "\n",
    "\n",
    "### WOW "
   ]
  },
  {
   "cell_type": "markdown",
   "id": "c1e2cd6e",
   "metadata": {},
   "source": [
    "## Obtener las funciones $p_i(k)$ para cada tipo $i$ y $k \\in N^{63}$"
   ]
  },
  {
   "cell_type": "markdown",
   "id": "d3ffc873",
   "metadata": {},
   "source": [
    "Se hace usando nuestro modelo. Recordar que, dado un tipo $i$, si $D^i$ es la descendencia. De modo que\n",
    "\n",
    "\n",
    "$$\n",
    "p_i(k) = P(D^i = k)\n",
    "$$\n",
    "\n",
    "Entonces, si $NH^i$ es el numero de hijos de ese tipo, luego\n",
    "\n",
    "$$\n",
    "p_i(k) = P(D^i = k | NH^i = ||k||_1 ) P(NH^i = ||k||_1)\n",
    "$$\n",
    "\n",
    "Donde $D^i | NH^i$ se distribuye **Multinomial**$(||k||_1, p)$, \n",
    "donde $p$ son las probabilidades asociadas de la cadena de markov de etiquetas"
   ]
  },
  {
   "cell_type": "code",
   "execution_count": 79,
   "id": "eca96a09",
   "metadata": {},
   "outputs": [],
   "source": [
    "def NH_i(i, n):\n",
    "    # obtener la probabilidad \n",
    "    # de que un tipo i tenga n hijos\n",
    "    \n",
    "    # tomar la muestra de  numero de hijos \n",
    "    # asociada a ese tipo del padre\n",
    "    muestra_hijos_i = muestras_subj[i]\n",
    "    \n",
    "    # ver el numero de ocurrencias en la muestra\n",
    "    num_ocurrencias = sum(muestra_hijos_i == n)\n",
    "    \n",
    "    # estimar la probabilidad con la division\n",
    "    proba_estimada = num_ocurrencias/len(muestra_hijos_i)\n",
    "    \n",
    "    return proba_estimada"
   ]
  },
  {
   "cell_type": "code",
   "execution_count": 80,
   "id": "aa168bcc",
   "metadata": {},
   "outputs": [],
   "source": [
    "from scipy.stats import multinomial\n",
    "\n",
    "\n",
    "def p_i(i, k):\n",
    "    \n",
    "    # ver que k sea valido\n",
    "    assert len(k) == numero_subjects\n",
    "    \n",
    "    # la probabilidad para k = vector0\n",
    "    # es solo la probabilidad de no tener hijos\n",
    "    if sum(k) == 0:\n",
    "        return NH_i(i, 0)\n",
    "    \n",
    "    # obtener las probabilidades de las etiquetas de los hijos\n",
    "    # esto esta en la cadena de markov de etiquetas\n",
    "    parametro_p = matriz_markov_estimada[i]\n",
    "    \n",
    "    # ver que si sume a 1\n",
    "    assert(np.isclose(parametro_p.sum(), 1))\n",
    "    \n",
    "    # definir la multinomial que viene\n",
    "    # de D|NH\n",
    "    D_dado_NH =  multinomial(sum(k), parametro_p)\n",
    "    \n",
    "    # obtener la probabilidad\n",
    "    probabilidad_k = D_dado_NH.pmf(k) * NH_i(i, sum(k))\n",
    "    \n",
    "    return probabilidad_k"
   ]
  },
  {
   "cell_type": "code",
   "execution_count": 81,
   "id": "32829ec9",
   "metadata": {},
   "outputs": [
    {
     "name": "stdout",
     "output_type": "stream",
     "text": [
      "0.023669050147457873\n"
     ]
    }
   ],
   "source": [
    "# ejemplo \n",
    "idx_prueba = 6\n",
    "k = np.array([0]*idx_prueba + [2]*1 + [0]*(numero_subjects - idx_prueba - 1))\n",
    "print(p_i(idx_prueba, k))"
   ]
  },
  {
   "cell_type": "markdown",
   "id": "a015ae43",
   "metadata": {},
   "source": [
    "## Obtener la muestra de vectores de descendencia para cada tipo\n",
    "\n",
    "Hacer un diccionario que de, para cada tipo, todos los vectores de descendencia que tienen a un padre con ese tipo"
   ]
  },
  {
   "cell_type": "code",
   "execution_count": 82,
   "id": "ac6d69cc",
   "metadata": {},
   "outputs": [],
   "source": [
    "# se le dan los nodos \n",
    "# construye el vector de generacion correspondiente\n",
    "# donde cada entrada son los nodos de un tipo\n",
    "def get_vector_generacion(lista_nodos, grafo):\n",
    "    \n",
    "    # inicializar el vector en zeros\n",
    "    vector_generacion = np.zeros(numero_subjects)\n",
    "    \n",
    "    # iterar en los nodos de la lista\n",
    "    for nodo in lista_nodos:\n",
    "        \n",
    "        # obtener el indice de este nodo\n",
    "        indice_etiqueta_nodo = get_etiqueta(nodo, grafo)\n",
    "        \n",
    "        # aumentar esa entrada del vector \n",
    "        vector_generacion[indice_etiqueta_nodo] += 1\n",
    "        \n",
    "    # devolver el vector de generacion\n",
    "    return vector_generacion"
   ]
  },
  {
   "cell_type": "code",
   "execution_count": 83,
   "id": "bcd6f2b3",
   "metadata": {},
   "outputs": [],
   "source": [
    "# inicializar el diccionario\n",
    "# las llaves son los tipos, sus indices\n",
    "# los valores son todos los vectores de descendencia\n",
    "muestras_vectores_descendencia = dict()\n",
    "\n",
    "# inicializar todas las muestras como vacias\n",
    "for idx_ in range(numero_subjects):\n",
    "    # iniciar vacia\n",
    "    muestras_vectores_descendencia[idx_] = []"
   ]
  },
  {
   "cell_type": "code",
   "execution_count": 84,
   "id": "a82e853f",
   "metadata": {},
   "outputs": [],
   "source": [
    "# Ahora ir llenando las muestras\n",
    "\n",
    "# iterar en los nodos\n",
    "for nodo in grafo.nodes():\n",
    "    \n",
    "    # ver el tipo de ese nodo\n",
    "    tipo_nodo = get_etiqueta(nodo, grafo)\n",
    "    \n",
    "    # tomar sus sucesores\n",
    "    sucesores_nodo = list(grafo.successors(nodo))\n",
    "    \n",
    "    # tomar su vector de descendencia\n",
    "    vector_descendencia = get_vector_generacion(sucesores_nodo, grafo)\n",
    "    \n",
    "    # añadirlo a la entrada correspondiente del diccionario\n",
    "    # dependiendo del tipo del padre\n",
    "    muestras_vectores_descendencia[tipo_nodo].append(vector_descendencia)"
   ]
  },
  {
   "cell_type": "markdown",
   "id": "7d3d3f9c",
   "metadata": {},
   "source": [
    "## Comparar las proporciones en la muestra con las probabilidades segun nuestro modelo"
   ]
  },
  {
   "cell_type": "code",
   "execution_count": 85,
   "id": "f881431e",
   "metadata": {},
   "outputs": [],
   "source": [
    "# para un tipo\n",
    "# ver la muestra\n",
    "# y ver las probabilidades y proporciones de los elementos\n",
    "def ejemplo_proporcion_vs_probabilidad(idx_prueba, num_ver):\n",
    "    \n",
    "    print(f\"Tipo: {idx_prueba}\")\n",
    "    print(idx_2_subj[idx_prueba])\n",
    "    print(\"\")\n",
    "\n",
    "    # tomar la muestra\n",
    "    muestra_ejemplo = muestras_vectores_descendencia[idx_prueba]\n",
    "    print(f\"Se tienen {len(muestra_ejemplo)} elementos en la muestra\")\n",
    "\n",
    "    # tomar los elementos unicos de la muestra\n",
    "    elementos_unicos = np.unique(muestra_ejemplo, axis=0)\n",
    "    print(f\"En la muestra hay {len(elementos_unicos)} elementos unicos\")\n",
    "    print(\" \")\n",
    "\n",
    "    # ordenar segun la probabilidad teorica del modelo p_i(k)\n",
    "    elementos_unicos = sorted(elementos_unicos, key= lambda k: p_i(idx_prueba, k), reverse=True)\n",
    "\n",
    "    # para algunos elementos de la muestra\n",
    "    # ver su probabilidad en nuestros p_i(k)\n",
    "    # ver su proporcion en la muestra\n",
    "    for k_idx in range(num_ver):\n",
    "\n",
    "        # tomar un elemento de la muestra, de los unicos\n",
    "        vector_ejemplo = elementos_unicos[k_idx]\n",
    "\n",
    "        # tomar sus ocurrencias en la muestra\n",
    "        ocurrencias = sum((muestra_ejemplo == vector_ejemplo).all(axis = 1))\n",
    "        # ver su proporcion en la muestra\n",
    "        proporcion  = ocurrencias/len(muestra_ejemplo)\n",
    "\n",
    "        # tomar su probabilidad estimada teorica con nuestro modelo\n",
    "        probabilidad_modelo = p_i(idx_prueba, vector_ejemplo)\n",
    "\n",
    "        print(f\"Proporcion: {proporcion:.3f}. Probabilidad: {probabilidad_modelo:.3f}\")\n",
    "    print(\"-\"*50)"
   ]
  },
  {
   "cell_type": "code",
   "execution_count": 86,
   "id": "04c1405b",
   "metadata": {},
   "outputs": [
    {
     "name": "stdout",
     "output_type": "stream",
     "text": [
      "Tipo: 20\n",
      "31—Potential theory\n",
      "\n",
      "Se tienen 99 elementos en la muestra\n",
      "En la muestra hay 29 elementos unicos\n",
      " \n",
      "Proporcion: 0.646. Probabilidad: 0.646\n",
      "Proporcion: 0.040. Probabilidad: 0.036\n",
      "Proporcion: 0.010. Probabilidad: 0.013\n",
      "Proporcion: 0.030. Probabilidad: 0.007\n",
      "Proporcion: 0.010. Probabilidad: 0.007\n",
      "Proporcion: 0.010. Probabilidad: 0.007\n",
      "Proporcion: 0.010. Probabilidad: 0.005\n",
      "Proporcion: 0.010. Probabilidad: 0.005\n",
      "Proporcion: 0.010. Probabilidad: 0.002\n",
      "Proporcion: 0.020. Probabilidad: 0.002\n",
      "--------------------------------------------------\n",
      "Tipo: 21\n",
      "32—Several complex variables and analytic spaces\n",
      "\n",
      "Se tienen 428 elementos en la muestra\n",
      "En la muestra hay 81 elementos unicos\n",
      " \n",
      "Proporcion: 0.682. Probabilidad: 0.682\n",
      "Proporcion: 0.058. Probabilidad: 0.040\n",
      "Proporcion: 0.033. Probabilidad: 0.015\n",
      "Proporcion: 0.005. Probabilidad: 0.012\n",
      "Proporcion: 0.002. Probabilidad: 0.008\n",
      "Proporcion: 0.002. Probabilidad: 0.006\n",
      "Proporcion: 0.007. Probabilidad: 0.004\n",
      "Proporcion: 0.016. Probabilidad: 0.003\n",
      "Proporcion: 0.007. Probabilidad: 0.003\n",
      "Proporcion: 0.002. Probabilidad: 0.002\n",
      "--------------------------------------------------\n",
      "Tipo: 22\n",
      "33—Special functions\n",
      "\n",
      "Se tienen 154 elementos en la muestra\n",
      "En la muestra hay 39 elementos unicos\n",
      " \n",
      "Proporcion: 0.701. Probabilidad: 0.701\n",
      "Proporcion: 0.039. Probabilidad: 0.038\n",
      "Proporcion: 0.013. Probabilidad: 0.014\n",
      "Proporcion: 0.006. Probabilidad: 0.010\n",
      "Proporcion: 0.006. Probabilidad: 0.009\n",
      "Proporcion: 0.019. Probabilidad: 0.008\n",
      "Proporcion: 0.006. Probabilidad: 0.005\n",
      "Proporcion: 0.006. Probabilidad: 0.004\n",
      "Proporcion: 0.006. Probabilidad: 0.003\n",
      "Proporcion: 0.006. Probabilidad: 0.003\n",
      "--------------------------------------------------\n",
      "Tipo: 23\n",
      "34—Ordinary differential equations\n",
      "\n",
      "Se tienen 1387 elementos en la muestra\n",
      "En la muestra hay 168 elementos unicos\n",
      " \n",
      "Proporcion: 0.785. Probabilidad: 0.785\n",
      "Proporcion: 0.030. Probabilidad: 0.037\n",
      "Proporcion: 0.014. Probabilidad: 0.011\n",
      "Proporcion: 0.008. Probabilidad: 0.007\n",
      "Proporcion: 0.004. Probabilidad: 0.005\n",
      "Proporcion: 0.009. Probabilidad: 0.004\n",
      "Proporcion: 0.003. Probabilidad: 0.004\n",
      "Proporcion: 0.001. Probabilidad: 0.003\n",
      "Proporcion: 0.002. Probabilidad: 0.003\n",
      "Proporcion: 0.004. Probabilidad: 0.003\n",
      "--------------------------------------------------\n",
      "Tipo: 24\n",
      "35—Partial differential equations\n",
      "\n",
      "Se tienen 4065 elementos en la muestra\n",
      "En la muestra hay 384 elementos unicos\n",
      " \n",
      "Proporcion: 0.744. Probabilidad: 0.744\n",
      "Proporcion: 0.059. Probabilidad: 0.061\n",
      "Proporcion: 0.023. Probabilidad: 0.017\n",
      "Proporcion: 0.007. Probabilidad: 0.009\n",
      "Proporcion: 0.011. Probabilidad: 0.006\n",
      "Proporcion: 0.002. Probabilidad: 0.005\n",
      "Proporcion: 0.003. Probabilidad: 0.003\n",
      "Proporcion: 0.001. Probabilidad: 0.002\n",
      "Proporcion: 0.003. Probabilidad: 0.002\n",
      "Proporcion: 0.006. Probabilidad: 0.002\n",
      "--------------------------------------------------\n",
      "Tipo: 25\n",
      "37—Dynamical systems and ergodic theory\n",
      "\n",
      "Se tienen 1761 elementos en la muestra\n",
      "En la muestra hay 194 elementos unicos\n",
      " \n",
      "Proporcion: 0.758. Probabilidad: 0.758\n",
      "Proporcion: 0.058. Probabilidad: 0.050\n",
      "Proporcion: 0.026. Probabilidad: 0.013\n",
      "Proporcion: 0.003. Probabilidad: 0.005\n",
      "Proporcion: 0.011. Probabilidad: 0.005\n",
      "Proporcion: 0.001. Probabilidad: 0.004\n",
      "Proporcion: 0.002. Probabilidad: 0.003\n",
      "Proporcion: 0.003. Probabilidad: 0.003\n",
      "Proporcion: 0.001. Probabilidad: 0.003\n",
      "Proporcion: 0.001. Probabilidad: 0.002\n",
      "--------------------------------------------------\n",
      "Tipo: 26\n",
      "39—Finite differences and functional equations\n",
      "\n",
      "Se tienen 132 elementos en la muestra\n",
      "En la muestra hay 27 elementos unicos\n",
      " \n",
      "Proporcion: 0.758. Probabilidad: 0.758\n",
      "Proporcion: 0.038. Probabilidad: 0.033\n",
      "Proporcion: 0.015. Probabilidad: 0.010\n",
      "Proporcion: 0.008. Probabilidad: 0.005\n",
      "Proporcion: 0.008. Probabilidad: 0.002\n",
      "Proporcion: 0.015. Probabilidad: 0.002\n",
      "Proporcion: 0.008. Probabilidad: 0.002\n",
      "Proporcion: 0.008. Probabilidad: 0.001\n",
      "Proporcion: 0.008. Probabilidad: 0.001\n",
      "Proporcion: 0.008. Probabilidad: 0.001\n",
      "--------------------------------------------------\n",
      "Tipo: 27\n",
      "40—Sequences, series, summability\n",
      "\n",
      "Se tienen 144 elementos en la muestra\n",
      "En la muestra hay 36 elementos unicos\n",
      " \n",
      "Proporcion: 0.674. Probabilidad: 0.674\n",
      "Proporcion: 0.062. Probabilidad: 0.062\n",
      "Proporcion: 0.007. Probabilidad: 0.020\n",
      "Proporcion: 0.014. Probabilidad: 0.016\n",
      "Proporcion: 0.007. Probabilidad: 0.009\n",
      "Proporcion: 0.014. Probabilidad: 0.006\n",
      "Proporcion: 0.007. Probabilidad: 0.004\n",
      "Proporcion: 0.014. Probabilidad: 0.004\n",
      "Proporcion: 0.007. Probabilidad: 0.004\n",
      "Proporcion: 0.007. Probabilidad: 0.003\n",
      "--------------------------------------------------\n",
      "Tipo: 28\n",
      "41—Approximations and expansions\n",
      "\n",
      "Se tienen 582 elementos en la muestra\n",
      "En la muestra hay 87 elementos unicos\n",
      " \n",
      "Proporcion: 0.763. Probabilidad: 0.763\n",
      "Proporcion: 0.041. Probabilidad: 0.039\n",
      "Proporcion: 0.012. Probabilidad: 0.009\n",
      "Proporcion: 0.015. Probabilidad: 0.008\n",
      "Proporcion: 0.002. Probabilidad: 0.006\n",
      "Proporcion: 0.002. Probabilidad: 0.006\n",
      "Proporcion: 0.012. Probabilidad: 0.004\n",
      "Proporcion: 0.002. Probabilidad: 0.004\n",
      "Proporcion: 0.003. Probabilidad: 0.003\n",
      "Proporcion: 0.003. Probabilidad: 0.001\n",
      "--------------------------------------------------\n",
      "Tipo: 29\n",
      "42—Fourier analysis\n",
      "\n",
      "Se tienen 531 elementos en la muestra\n",
      "En la muestra hay 97 elementos unicos\n",
      " \n",
      "Proporcion: 0.708. Probabilidad: 0.708\n",
      "Proporcion: 0.047. Probabilidad: 0.052\n",
      "Proporcion: 0.002. Probabilidad: 0.010\n",
      "Proporcion: 0.015. Probabilidad: 0.008\n",
      "Proporcion: 0.004. Probabilidad: 0.007\n",
      "Proporcion: 0.008. Probabilidad: 0.006\n",
      "Proporcion: 0.006. Probabilidad: 0.006\n",
      "Proporcion: 0.006. Probabilidad: 0.005\n",
      "Proporcion: 0.011. Probabilidad: 0.005\n",
      "Proporcion: 0.004. Probabilidad: 0.005\n",
      "--------------------------------------------------\n",
      "Tipo: 30\n",
      "43—Abstract harmonic analysis\n",
      "\n",
      "Se tienen 171 elementos en la muestra\n",
      "En la muestra hay 48 elementos unicos\n",
      " \n",
      "Proporcion: 0.667. Probabilidad: 0.667\n",
      "Proporcion: 0.018. Probabilidad: 0.024\n",
      "Proporcion: 0.023. Probabilidad: 0.017\n",
      "Proporcion: 0.018. Probabilidad: 0.012\n",
      "Proporcion: 0.012. Probabilidad: 0.008\n",
      "Proporcion: 0.006. Probabilidad: 0.005\n",
      "Proporcion: 0.006. Probabilidad: 0.004\n",
      "Proporcion: 0.012. Probabilidad: 0.003\n",
      "Proporcion: 0.006. Probabilidad: 0.002\n",
      "Proporcion: 0.006. Probabilidad: 0.002\n",
      "--------------------------------------------------\n",
      "Tipo: 31\n",
      "44—Integral transforms, operational calculus\n",
      "\n",
      "Se tienen 63 elementos en la muestra\n",
      "En la muestra hay 18 elementos unicos\n",
      " \n",
      "Proporcion: 0.698. Probabilidad: 0.698\n",
      "Proporcion: 0.048. Probabilidad: 0.026\n",
      "Proporcion: 0.016. Probabilidad: 0.009\n",
      "Proporcion: 0.016. Probabilidad: 0.004\n",
      "Proporcion: 0.016. Probabilidad: 0.002\n",
      "Proporcion: 0.016. Probabilidad: 0.002\n",
      "Proporcion: 0.016. Probabilidad: 0.001\n",
      "Proporcion: 0.016. Probabilidad: 0.000\n",
      "Proporcion: 0.016. Probabilidad: 0.000\n",
      "Proporcion: 0.016. Probabilidad: 0.000\n",
      "--------------------------------------------------\n",
      "Tipo: 32\n",
      "45—Integral equations\n",
      "\n",
      "Se tienen 131 elementos en la muestra\n",
      "En la muestra hay 31 elementos unicos\n",
      " \n",
      "Proporcion: 0.756. Probabilidad: 0.756\n",
      "Proporcion: 0.015. Probabilidad: 0.010\n",
      "Proporcion: 0.008. Probabilidad: 0.007\n",
      "Proporcion: 0.008. Probabilidad: 0.006\n",
      "Proporcion: 0.015. Probabilidad: 0.005\n",
      "Proporcion: 0.008. Probabilidad: 0.001\n",
      "Proporcion: 0.008. Probabilidad: 0.001\n",
      "Proporcion: 0.008. Probabilidad: 0.001\n",
      "Proporcion: 0.008. Probabilidad: 0.000\n",
      "Proporcion: 0.008. Probabilidad: 0.000\n",
      "--------------------------------------------------\n",
      "Tipo: 33\n",
      "46—Functional analysis\n",
      "\n",
      "Se tienen 2439 elementos en la muestra\n",
      "En la muestra hay 311 elementos unicos\n",
      " \n",
      "Proporcion: 0.736. Probabilidad: 0.736\n",
      "Proporcion: 0.051. Probabilidad: 0.052\n",
      "Proporcion: 0.018. Probabilidad: 0.013\n",
      "Proporcion: 0.008. Probabilidad: 0.007\n",
      "Proporcion: 0.002. Probabilidad: 0.006\n",
      "Proporcion: 0.002. Probabilidad: 0.006\n",
      "Proporcion: 0.010. Probabilidad: 0.004\n",
      "Proporcion: 0.001. Probabilidad: 0.004\n",
      "Proporcion: 0.001. Probabilidad: 0.003\n",
      "Proporcion: 0.001. Probabilidad: 0.003\n",
      "--------------------------------------------------\n",
      "Tipo: 34\n",
      "47—Operator theory\n",
      "\n",
      "Se tienen 978 elementos en la muestra\n",
      "En la muestra hay 129 elementos unicos\n",
      " \n",
      "Proporcion: 0.773. Probabilidad: 0.773\n",
      "Proporcion: 0.044. Probabilidad: 0.036\n",
      "Proporcion: 0.009. Probabilidad: 0.012\n",
      "Proporcion: 0.010. Probabilidad: 0.006\n",
      "Proporcion: 0.005. Probabilidad: 0.006\n",
      "Proporcion: 0.004. Probabilidad: 0.004\n",
      "Proporcion: 0.005. Probabilidad: 0.004\n",
      "Proporcion: 0.002. Probabilidad: 0.003\n",
      "Proporcion: 0.001. Probabilidad: 0.002\n",
      "Proporcion: 0.001. Probabilidad: 0.002\n",
      "--------------------------------------------------\n",
      "Tipo: 35\n",
      "49—Calculus of variations and optimal control\n",
      "\n",
      "Se tienen 837 elementos en la muestra\n",
      "En la muestra hay 118 elementos unicos\n",
      " \n",
      "Proporcion: 0.780. Probabilidad: 0.780\n",
      "Proporcion: 0.032. Probabilidad: 0.025\n",
      "Proporcion: 0.004. Probabilidad: 0.008\n",
      "Proporcion: 0.006. Probabilidad: 0.007\n",
      "Proporcion: 0.007. Probabilidad: 0.006\n",
      "Proporcion: 0.005. Probabilidad: 0.005\n",
      "Proporcion: 0.001. Probabilidad: 0.004\n",
      "Proporcion: 0.002. Probabilidad: 0.004\n",
      "Proporcion: 0.012. Probabilidad: 0.004\n",
      "Proporcion: 0.006. Probabilidad: 0.003\n",
      "--------------------------------------------------\n",
      "Tipo: 36\n",
      "51—Geometry\n",
      "\n",
      "Se tienen 788 elementos en la muestra\n",
      "En la muestra hay 163 elementos unicos\n",
      " \n",
      "Proporcion: 0.684. Probabilidad: 0.684\n",
      "Proporcion: 0.051. Probabilidad: 0.034\n",
      "Proporcion: 0.009. Probabilidad: 0.011\n",
      "Proporcion: 0.009. Probabilidad: 0.007\n",
      "Proporcion: 0.003. Probabilidad: 0.007\n",
      "Proporcion: 0.001. Probabilidad: 0.006\n",
      "Proporcion: 0.011. Probabilidad: 0.006\n",
      "Proporcion: 0.006. Probabilidad: 0.005\n",
      "Proporcion: 0.003. Probabilidad: 0.004\n",
      "Proporcion: 0.003. Probabilidad: 0.003\n",
      "--------------------------------------------------\n",
      "Tipo: 37\n",
      "52—Convex and discrete geometry\n",
      "\n",
      "Se tienen 517 elementos en la muestra\n"
     ]
    },
    {
     "name": "stdout",
     "output_type": "stream",
     "text": [
      "En la muestra hay 79 elementos unicos\n",
      " \n",
      "Proporcion: 0.779. Probabilidad: 0.779\n",
      "Proporcion: 0.033. Probabilidad: 0.027\n",
      "Proporcion: 0.012. Probabilidad: 0.016\n",
      "Proporcion: 0.010. Probabilidad: 0.009\n",
      "Proporcion: 0.002. Probabilidad: 0.005\n",
      "Proporcion: 0.004. Probabilidad: 0.004\n",
      "Proporcion: 0.002. Probabilidad: 0.003\n",
      "Proporcion: 0.002. Probabilidad: 0.003\n",
      "Proporcion: 0.004. Probabilidad: 0.002\n",
      "Proporcion: 0.002. Probabilidad: 0.002\n",
      "--------------------------------------------------\n",
      "Tipo: 38\n",
      "53—Differential geometry\n",
      "\n",
      "Se tienen 2082 elementos en la muestra\n",
      "En la muestra hay 201 elementos unicos\n",
      " \n",
      "Proporcion: 0.747. Probabilidad: 0.747\n",
      "Proporcion: 0.063. Probabilidad: 0.064\n",
      "Proporcion: 0.029. Probabilidad: 0.022\n",
      "Proporcion: 0.013. Probabilidad: 0.010\n",
      "Proporcion: 0.007. Probabilidad: 0.005\n",
      "Proporcion: 0.005. Probabilidad: 0.004\n",
      "Proporcion: 0.002. Probabilidad: 0.003\n",
      "Proporcion: 0.004. Probabilidad: 0.002\n",
      "Proporcion: 0.001. Probabilidad: 0.002\n",
      "Proporcion: 0.001. Probabilidad: 0.002\n",
      "--------------------------------------------------\n",
      "Tipo: 39\n",
      "54—General topology\n",
      "\n",
      "Se tienen 635 elementos en la muestra\n",
      "En la muestra hay 122 elementos unicos\n",
      " \n",
      "Proporcion: 0.682. Probabilidad: 0.682\n",
      "Proporcion: 0.068. Probabilidad: 0.057\n",
      "Proporcion: 0.019. Probabilidad: 0.012\n",
      "Proporcion: 0.002. Probabilidad: 0.006\n",
      "Proporcion: 0.002. Probabilidad: 0.005\n",
      "Proporcion: 0.008. Probabilidad: 0.004\n",
      "Proporcion: 0.006. Probabilidad: 0.003\n",
      "Proporcion: 0.003. Probabilidad: 0.003\n",
      "Proporcion: 0.003. Probabilidad: 0.003\n",
      "Proporcion: 0.002. Probabilidad: 0.003\n",
      "--------------------------------------------------\n",
      "Tipo: 40\n",
      "55—Algebraic topology\n",
      "\n",
      "Se tienen 726 elementos en la muestra\n",
      "En la muestra hay 119 elementos unicos\n",
      " \n",
      "Proporcion: 0.726. Probabilidad: 0.726\n",
      "Proporcion: 0.045. Probabilidad: 0.049\n",
      "Proporcion: 0.023. Probabilidad: 0.016\n",
      "Proporcion: 0.011. Probabilidad: 0.009\n",
      "Proporcion: 0.007. Probabilidad: 0.006\n",
      "Proporcion: 0.006. Probabilidad: 0.005\n",
      "Proporcion: 0.010. Probabilidad: 0.004\n",
      "Proporcion: 0.006. Probabilidad: 0.004\n",
      "Proporcion: 0.001. Probabilidad: 0.003\n",
      "Proporcion: 0.003. Probabilidad: 0.003\n",
      "--------------------------------------------------\n",
      "Tipo: 41\n",
      "57—Manifolds and cell complexes\n",
      "\n",
      "Se tienen 685 elementos en la muestra\n",
      "En la muestra hay 103 elementos unicos\n",
      " \n",
      "Proporcion: 0.736. Probabilidad: 0.736\n",
      "Proporcion: 0.041. Probabilidad: 0.042\n",
      "Proporcion: 0.022. Probabilidad: 0.013\n",
      "Proporcion: 0.001. Probabilidad: 0.007\n",
      "Proporcion: 0.010. Probabilidad: 0.005\n",
      "Proporcion: 0.004. Probabilidad: 0.004\n",
      "Proporcion: 0.007. Probabilidad: 0.004\n",
      "Proporcion: 0.004. Probabilidad: 0.003\n",
      "Proporcion: 0.003. Probabilidad: 0.003\n",
      "Proporcion: 0.001. Probabilidad: 0.003\n",
      "--------------------------------------------------\n",
      "Tipo: 42\n",
      "58—Global analysis, analysis on manifolds\n",
      "\n",
      "Se tienen 407 elementos en la muestra\n",
      "En la muestra hay 80 elementos unicos\n",
      " \n",
      "Proporcion: 0.735. Probabilidad: 0.735\n",
      "Proporcion: 0.017. Probabilidad: 0.019\n",
      "Proporcion: 0.022. Probabilidad: 0.015\n",
      "Proporcion: 0.005. Probabilidad: 0.005\n",
      "Proporcion: 0.007. Probabilidad: 0.005\n",
      "Proporcion: 0.012. Probabilidad: 0.005\n",
      "Proporcion: 0.007. Probabilidad: 0.004\n",
      "Proporcion: 0.002. Probabilidad: 0.003\n",
      "Proporcion: 0.002. Probabilidad: 0.003\n",
      "Proporcion: 0.005. Probabilidad: 0.003\n",
      "--------------------------------------------------\n",
      "Tipo: 43\n",
      "60—Probability theory and stochastic processes\n",
      "\n",
      "Se tienen 4809 elementos en la muestra\n",
      "En la muestra hay 391 elementos unicos\n",
      " \n",
      "Proporcion: 0.745. Probabilidad: 0.745\n",
      "Proporcion: 0.059. Probabilidad: 0.053\n",
      "Proporcion: 0.024. Probabilidad: 0.016\n",
      "Proporcion: 0.013. Probabilidad: 0.015\n",
      "Proporcion: 0.005. Probabilidad: 0.009\n",
      "Proporcion: 0.013. Probabilidad: 0.007\n",
      "Proporcion: 0.002. Probabilidad: 0.006\n",
      "Proporcion: 0.003. Probabilidad: 0.005\n",
      "Proporcion: 0.001. Probabilidad: 0.003\n",
      "Proporcion: 0.001. Probabilidad: 0.003\n",
      "--------------------------------------------------\n",
      "Tipo: 44\n",
      "62—Statistics\n",
      "\n",
      "Se tienen 11416 elementos en la muestra\n",
      "En la muestra hay 344 elementos unicos\n",
      " \n",
      "Proporcion: 0.793. Probabilidad: 0.793\n",
      "Proporcion: 0.063. Probabilidad: 0.065\n",
      "Proporcion: 0.027. Probabilidad: 0.024\n",
      "Proporcion: 0.016. Probabilidad: 0.011\n",
      "Proporcion: 0.011. Probabilidad: 0.007\n",
      "Proporcion: 0.006. Probabilidad: 0.006\n",
      "Proporcion: 0.001. Probabilidad: 0.005\n",
      "Proporcion: 0.007. Probabilidad: 0.004\n",
      "Proporcion: 0.001. Probabilidad: 0.003\n",
      "Proporcion: 0.001. Probabilidad: 0.003\n",
      "--------------------------------------------------\n",
      "Tipo: 45\n",
      "65—Numerical analysis\n",
      "\n",
      "Se tienen 4844 elementos en la muestra\n",
      "En la muestra hay 364 elementos unicos\n",
      " \n",
      "Proporcion: 0.793. Probabilidad: 0.793\n",
      "Proporcion: 0.048. Probabilidad: 0.050\n",
      "Proporcion: 0.019. Probabilidad: 0.016\n",
      "Proporcion: 0.008. Probabilidad: 0.006\n",
      "Proporcion: 0.004. Probabilidad: 0.005\n",
      "Proporcion: 0.004. Probabilidad: 0.004\n",
      "Proporcion: 0.001. Probabilidad: 0.003\n",
      "Proporcion: 0.006. Probabilidad: 0.003\n",
      "Proporcion: 0.001. Probabilidad: 0.002\n",
      "Proporcion: 0.002. Probabilidad: 0.002\n",
      "--------------------------------------------------\n",
      "Tipo: 46\n",
      "68—Computer science\n",
      "\n",
      "Se tienen 22697 elementos en la muestra\n",
      "En la muestra hay 512 elementos unicos\n",
      " \n",
      "Proporcion: 0.816. Probabilidad: 0.816\n",
      "Proporcion: 0.058. Probabilidad: 0.062\n",
      "Proporcion: 0.025. Probabilidad: 0.025\n",
      "Proporcion: 0.014. Probabilidad: 0.013\n",
      "Proporcion: 0.010. Probabilidad: 0.009\n",
      "Proporcion: 0.008. Probabilidad: 0.007\n",
      "Proporcion: 0.005. Probabilidad: 0.004\n",
      "Proporcion: 0.005. Probabilidad: 0.003\n",
      "Proporcion: 0.003. Probabilidad: 0.002\n",
      "Proporcion: 0.003. Probabilidad: 0.002\n",
      "--------------------------------------------------\n",
      "Tipo: 47\n",
      "70—Mechanics of particles and systems\n",
      "\n",
      "Se tienen 617 elementos en la muestra\n",
      "En la muestra hay 113 elementos unicos\n",
      " \n",
      "Proporcion: 0.661. Probabilidad: 0.661\n",
      "Proporcion: 0.042. Probabilidad: 0.022\n",
      "Proporcion: 0.003. Probabilidad: 0.021\n",
      "Proporcion: 0.005. Probabilidad: 0.021\n",
      "Proporcion: 0.023. Probabilidad: 0.018\n",
      "Proporcion: 0.006. Probabilidad: 0.014\n",
      "Proporcion: 0.011. Probabilidad: 0.014\n",
      "Proporcion: 0.006. Probabilidad: 0.009\n",
      "Proporcion: 0.006. Probabilidad: 0.006\n",
      "Proporcion: 0.010. Probabilidad: 0.005\n",
      "--------------------------------------------------\n",
      "Tipo: 48\n",
      "74—Mechanics of deformable solids\n",
      "\n",
      "Se tienen 1525 elementos en la muestra\n",
      "En la muestra hay 148 elementos unicos\n",
      " \n",
      "Proporcion: 0.746. Probabilidad: 0.746\n",
      "Proporcion: 0.076. Probabilidad: 0.077\n",
      "Proporcion: 0.020. Probabilidad: 0.019\n",
      "Proporcion: 0.006. Probabilidad: 0.006\n",
      "Proporcion: 0.009. Probabilidad: 0.005\n",
      "Proporcion: 0.005. Probabilidad: 0.004\n",
      "Proporcion: 0.004. Probabilidad: 0.004\n",
      "Proporcion: 0.003. Probabilidad: 0.004\n",
      "Proporcion: 0.003. Probabilidad: 0.003\n",
      "Proporcion: 0.002. Probabilidad: 0.002\n",
      "--------------------------------------------------\n",
      "Tipo: 49\n",
      "76—Fluid mechanics\n",
      "\n",
      "Se tienen 2866 elementos en la muestra\n",
      "En la muestra hay 256 elementos unicos\n",
      " \n",
      "Proporcion: 0.718. Probabilidad: 0.718\n",
      "Proporcion: 0.076. Probabilidad: 0.080\n",
      "Proporcion: 0.022. Probabilidad: 0.020\n",
      "Proporcion: 0.006. Probabilidad: 0.009\n",
      "Proporcion: 0.006. Probabilidad: 0.009\n",
      "Proporcion: 0.012. Probabilidad: 0.007\n",
      "Proporcion: 0.006. Probabilidad: 0.005\n",
      "Proporcion: 0.004. Probabilidad: 0.004\n",
      "Proporcion: 0.002. Probabilidad: 0.004\n",
      "Proporcion: 0.003. Probabilidad: 0.003\n",
      "--------------------------------------------------\n"
     ]
    }
   ],
   "source": [
    "# ver ejemplos de algunos tipos\n",
    "for i in range(20, 50):\n",
    "    ejemplo_proporcion_vs_probabilidad(i, 10)"
   ]
  }
 ],
 "metadata": {
  "kernelspec": {
   "display_name": "gnn",
   "language": "python",
   "name": "gnn"
  },
  "language_info": {
   "codemirror_mode": {
    "name": "ipython",
    "version": 3
   },
   "file_extension": ".py",
   "mimetype": "text/x-python",
   "name": "python",
   "nbconvert_exporter": "python",
   "pygments_lexer": "ipython3",
   "version": "3.10.11"
  }
 },
 "nbformat": 4,
 "nbformat_minor": 5
}
